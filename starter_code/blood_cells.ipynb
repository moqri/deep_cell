{
  "nbformat": 4,
  "nbformat_minor": 0,
  "metadata": {
    "colab": {
      "name": "blood_cells.ipynb",
      "provenance": [],
      "collapsed_sections": [],
      "authorship_tag": "ABX9TyMBiuRQh0sD6l5m9WdG9LLv",
      "include_colab_link": true
    },
    "kernelspec": {
      "name": "python3",
      "display_name": "Python 3"
    },
    "accelerator": "GPU"
  },
  "cells": [
    {
      "cell_type": "markdown",
      "metadata": {
        "id": "view-in-github",
        "colab_type": "text"
      },
      "source": [
        "<a href=\"https://colab.research.google.com/github/moqri/deep_cell/blob/master/starter_code/blood_cells.ipynb\" target=\"_parent\"><img src=\"https://colab.research.google.com/assets/colab-badge.svg\" alt=\"Open In Colab\"/></a>"
      ]
    },
    {
      "cell_type": "code",
      "metadata": {
        "id": "PzPUf4VkiXBT",
        "colab_type": "code",
        "colab": {}
      },
      "source": [
        "# Download the data Atlas of human blood data from \n",
        "# https://singlecell.broadinstitute.org/single_cell/study/SCP43\n",
        "# and put in the /data folder\n",
        "# in particular, you need the \n",
        "# 1. raw_expression_matrix.txt (for input)\n",
        "# 2. metadata.txt (for labels)"
      ],
      "execution_count": 0,
      "outputs": []
    },
    {
      "cell_type": "code",
      "metadata": {
        "id": "MPZqe92Cny8R",
        "colab_type": "code",
        "colab": {
          "base_uri": "https://localhost:8080/",
          "height": 34
        },
        "outputId": "bc7c3d84-0f50-4072-fac9-6d81edd7f75b"
      },
      "source": [
        "# if you already have a compressed copy of the data (single_cell_portal_blood.tar.gz) on Google Drive:\n",
        "from google.colab import drive\n",
        "drive.mount('/gdrive')"
      ],
      "execution_count": 1,
      "outputs": [
        {
          "output_type": "stream",
          "text": [
            "Drive already mounted at /gdrive; to attempt to forcibly remount, call drive.mount(\"/gdrive\", force_remount=True).\n"
          ],
          "name": "stdout"
        }
      ]
    },
    {
      "cell_type": "code",
      "metadata": {
        "id": "ottSlbakVTDh",
        "colab_type": "code",
        "colab": {
          "base_uri": "https://localhost:8080/",
          "height": 34
        },
        "outputId": "895820ae-1a79-46ea-f7ac-cc94c3e06f6b"
      },
      "source": [
        "compressed_file_path='/gdrive/My\\ Drive/pr/cs230/data/single_cell_portal_blood.tar.gz'\n",
        "!mkdir data\n",
        "!tar -xf {compressed_file_path} --directory /content/data/"
      ],
      "execution_count": 3,
      "outputs": [
        {
          "output_type": "stream",
          "text": [
            "mkdir: cannot create directory ‘data’: File exists\n"
          ],
          "name": "stdout"
        }
      ]
    },
    {
      "cell_type": "code",
      "metadata": {
        "id": "1Q1st2RAYZ2B",
        "colab_type": "code",
        "colab": {}
      },
      "source": [
        "data_path='/content/data/'\n",
        "folder='single_cell_portal_blood/'\n",
        "expression_file='raw_expression_matrix.txt'\n",
        "cell_file='metadata.txt'"
      ],
      "execution_count": 0,
      "outputs": []
    },
    {
      "cell_type": "code",
      "metadata": {
        "id": "x-J3txfsSn2N",
        "colab_type": "code",
        "colab": {}
      },
      "source": [
        "import pandas as pd\n",
        "import numpy as np\n",
        "from sklearn.feature_selection import SelectKBest, chi2\n",
        "from sklearn.metrics import accuracy_score\n",
        "from sklearn.model_selection import train_test_split\n",
        "from sklearn import svm\n",
        "import itertools"
      ],
      "execution_count": 0,
      "outputs": []
    },
    {
      "cell_type": "code",
      "metadata": {
        "id": "buGxZKRGjCgA",
        "colab_type": "code",
        "outputId": "36c4e12d-b8d9-4833-abae-d6771c5afeb0",
        "colab": {
          "base_uri": "https://localhost:8080/",
          "height": 34
        }
      },
      "source": [
        "expression_df=pd.read_table(data_path+folder+expression_file,index_col=0).transpose()\n",
        "expression_df.index.rename('Cell_ID',inplace=1)\n",
        "expression_df.index=expression_df.index.str[:-5]\n",
        "expression_df.shape"
      ],
      "execution_count": 6,
      "outputs": [
        {
          "output_type": "execute_result",
          "data": {
            "text/plain": [
              "(1140, 26593)"
            ]
          },
          "metadata": {
            "tags": []
          },
          "execution_count": 6
        }
      ]
    },
    {
      "cell_type": "code",
      "metadata": {
        "id": "o716KXYjTGJc",
        "colab_type": "code",
        "outputId": "062e2cb6-2c92-453f-945a-d0eeb2482fc1",
        "colab": {
          "base_uri": "https://localhost:8080/",
          "height": 301
        }
      },
      "source": [
        "expression_df.head()"
      ],
      "execution_count": 7,
      "outputs": [
        {
          "output_type": "execute_result",
          "data": {
            "text/html": [
              "<div>\n",
              "<style scoped>\n",
              "    .dataframe tbody tr th:only-of-type {\n",
              "        vertical-align: middle;\n",
              "    }\n",
              "\n",
              "    .dataframe tbody tr th {\n",
              "        vertical-align: top;\n",
              "    }\n",
              "\n",
              "    .dataframe thead th {\n",
              "        text-align: right;\n",
              "    }\n",
              "</style>\n",
              "<table border=\"1\" class=\"dataframe\">\n",
              "  <thead>\n",
              "    <tr style=\"text-align: right;\">\n",
              "      <th>Gene.ID</th>\n",
              "      <th>1/2-SBSRNA4</th>\n",
              "      <th>5S_RRNA</th>\n",
              "      <th>5_8S_RRNA</th>\n",
              "      <th>7SK</th>\n",
              "      <th>A1BG</th>\n",
              "      <th>A1BG-AS1</th>\n",
              "      <th>A1CF</th>\n",
              "      <th>A2LD1</th>\n",
              "      <th>A2M</th>\n",
              "      <th>A2ML1</th>\n",
              "      <th>A2MP1</th>\n",
              "      <th>A4GALT</th>\n",
              "      <th>A4GNT</th>\n",
              "      <th>AA06</th>\n",
              "      <th>AAA1</th>\n",
              "      <th>AAAS</th>\n",
              "      <th>AACS</th>\n",
              "      <th>AACSP1</th>\n",
              "      <th>AADAC</th>\n",
              "      <th>AADACL2</th>\n",
              "      <th>AADACL3</th>\n",
              "      <th>AADACL4</th>\n",
              "      <th>AADAT</th>\n",
              "      <th>AAGAB</th>\n",
              "      <th>AAK1</th>\n",
              "      <th>AAMP</th>\n",
              "      <th>AANAT</th>\n",
              "      <th>AARS</th>\n",
              "      <th>AARS2</th>\n",
              "      <th>AARSD1</th>\n",
              "      <th>AASDH</th>\n",
              "      <th>AASDHPPT</th>\n",
              "      <th>AASS</th>\n",
              "      <th>AATF</th>\n",
              "      <th>AATK</th>\n",
              "      <th>AATK-AS1</th>\n",
              "      <th>AB059369</th>\n",
              "      <th>AB062081</th>\n",
              "      <th>AB062083</th>\n",
              "      <th>AB074162</th>\n",
              "      <th>...</th>\n",
              "      <th>ZRANB2</th>\n",
              "      <th>ZRANB2-AS1</th>\n",
              "      <th>ZRANB3</th>\n",
              "      <th>ZRSR1</th>\n",
              "      <th>ZRSR2</th>\n",
              "      <th>ZSCAN1</th>\n",
              "      <th>ZSCAN10</th>\n",
              "      <th>ZSCAN12</th>\n",
              "      <th>ZSCAN12P1</th>\n",
              "      <th>ZSCAN16</th>\n",
              "      <th>ZSCAN18</th>\n",
              "      <th>ZSCAN2</th>\n",
              "      <th>ZSCAN20</th>\n",
              "      <th>ZSCAN21</th>\n",
              "      <th>ZSCAN22</th>\n",
              "      <th>ZSCAN23</th>\n",
              "      <th>ZSCAN29</th>\n",
              "      <th>ZSCAN30</th>\n",
              "      <th>ZSCAN4</th>\n",
              "      <th>ZSCAN5A</th>\n",
              "      <th>ZSCAN5B</th>\n",
              "      <th>ZSWIM1</th>\n",
              "      <th>ZSWIM2</th>\n",
              "      <th>ZSWIM3</th>\n",
              "      <th>ZSWIM4</th>\n",
              "      <th>ZSWIM5</th>\n",
              "      <th>ZSWIM6</th>\n",
              "      <th>ZSWIM7</th>\n",
              "      <th>ZUFSP</th>\n",
              "      <th>ZW10</th>\n",
              "      <th>ZWILCH</th>\n",
              "      <th>ZWINT</th>\n",
              "      <th>ZXDA</th>\n",
              "      <th>ZXDB</th>\n",
              "      <th>ZXDC</th>\n",
              "      <th>ZYG11A</th>\n",
              "      <th>ZYG11B</th>\n",
              "      <th>ZYX</th>\n",
              "      <th>ZZEF1</th>\n",
              "      <th>ZZZ3</th>\n",
              "    </tr>\n",
              "    <tr>\n",
              "      <th>Cell_ID</th>\n",
              "      <th></th>\n",
              "      <th></th>\n",
              "      <th></th>\n",
              "      <th></th>\n",
              "      <th></th>\n",
              "      <th></th>\n",
              "      <th></th>\n",
              "      <th></th>\n",
              "      <th></th>\n",
              "      <th></th>\n",
              "      <th></th>\n",
              "      <th></th>\n",
              "      <th></th>\n",
              "      <th></th>\n",
              "      <th></th>\n",
              "      <th></th>\n",
              "      <th></th>\n",
              "      <th></th>\n",
              "      <th></th>\n",
              "      <th></th>\n",
              "      <th></th>\n",
              "      <th></th>\n",
              "      <th></th>\n",
              "      <th></th>\n",
              "      <th></th>\n",
              "      <th></th>\n",
              "      <th></th>\n",
              "      <th></th>\n",
              "      <th></th>\n",
              "      <th></th>\n",
              "      <th></th>\n",
              "      <th></th>\n",
              "      <th></th>\n",
              "      <th></th>\n",
              "      <th></th>\n",
              "      <th></th>\n",
              "      <th></th>\n",
              "      <th></th>\n",
              "      <th></th>\n",
              "      <th></th>\n",
              "      <th></th>\n",
              "      <th></th>\n",
              "      <th></th>\n",
              "      <th></th>\n",
              "      <th></th>\n",
              "      <th></th>\n",
              "      <th></th>\n",
              "      <th></th>\n",
              "      <th></th>\n",
              "      <th></th>\n",
              "      <th></th>\n",
              "      <th></th>\n",
              "      <th></th>\n",
              "      <th></th>\n",
              "      <th></th>\n",
              "      <th></th>\n",
              "      <th></th>\n",
              "      <th></th>\n",
              "      <th></th>\n",
              "      <th></th>\n",
              "      <th></th>\n",
              "      <th></th>\n",
              "      <th></th>\n",
              "      <th></th>\n",
              "      <th></th>\n",
              "      <th></th>\n",
              "      <th></th>\n",
              "      <th></th>\n",
              "      <th></th>\n",
              "      <th></th>\n",
              "      <th></th>\n",
              "      <th></th>\n",
              "      <th></th>\n",
              "      <th></th>\n",
              "      <th></th>\n",
              "      <th></th>\n",
              "      <th></th>\n",
              "      <th></th>\n",
              "      <th></th>\n",
              "      <th></th>\n",
              "      <th></th>\n",
              "    </tr>\n",
              "  </thead>\n",
              "  <tbody>\n",
              "    <tr>\n",
              "      <th>CD141_P10_S73</th>\n",
              "      <td>0.00</td>\n",
              "      <td>0.0</td>\n",
              "      <td>0.0</td>\n",
              "      <td>101.04</td>\n",
              "      <td>13.45</td>\n",
              "      <td>0.0</td>\n",
              "      <td>0.21</td>\n",
              "      <td>0.0</td>\n",
              "      <td>0.0</td>\n",
              "      <td>0.60</td>\n",
              "      <td>0.0</td>\n",
              "      <td>23.31</td>\n",
              "      <td>0.0</td>\n",
              "      <td>0.0</td>\n",
              "      <td>0.0</td>\n",
              "      <td>103.19</td>\n",
              "      <td>0.00</td>\n",
              "      <td>0.00</td>\n",
              "      <td>0.0</td>\n",
              "      <td>0.0</td>\n",
              "      <td>0.0</td>\n",
              "      <td>0.0</td>\n",
              "      <td>0.0</td>\n",
              "      <td>0.00</td>\n",
              "      <td>0.53</td>\n",
              "      <td>133.73</td>\n",
              "      <td>0.0</td>\n",
              "      <td>0.00</td>\n",
              "      <td>0.00</td>\n",
              "      <td>103.18</td>\n",
              "      <td>0.00</td>\n",
              "      <td>0.00</td>\n",
              "      <td>0.00</td>\n",
              "      <td>94.70</td>\n",
              "      <td>0.0</td>\n",
              "      <td>0.0</td>\n",
              "      <td>0.0</td>\n",
              "      <td>10.45</td>\n",
              "      <td>0.0</td>\n",
              "      <td>0.0</td>\n",
              "      <td>...</td>\n",
              "      <td>0.00</td>\n",
              "      <td>0.0</td>\n",
              "      <td>0.0</td>\n",
              "      <td>0.0</td>\n",
              "      <td>3.54</td>\n",
              "      <td>0.0</td>\n",
              "      <td>0.0</td>\n",
              "      <td>0.00</td>\n",
              "      <td>0.00</td>\n",
              "      <td>0.0</td>\n",
              "      <td>1.28</td>\n",
              "      <td>0.00</td>\n",
              "      <td>0.0</td>\n",
              "      <td>0.0</td>\n",
              "      <td>0.00</td>\n",
              "      <td>1.29</td>\n",
              "      <td>1.42</td>\n",
              "      <td>0.0</td>\n",
              "      <td>0.0</td>\n",
              "      <td>0.0</td>\n",
              "      <td>0.0</td>\n",
              "      <td>3.37</td>\n",
              "      <td>0.0</td>\n",
              "      <td>0.0</td>\n",
              "      <td>0.0</td>\n",
              "      <td>0.0</td>\n",
              "      <td>0.00</td>\n",
              "      <td>35.72</td>\n",
              "      <td>0.00</td>\n",
              "      <td>0.00</td>\n",
              "      <td>0.0</td>\n",
              "      <td>0.0</td>\n",
              "      <td>0.0</td>\n",
              "      <td>0.00</td>\n",
              "      <td>20.58</td>\n",
              "      <td>0.00</td>\n",
              "      <td>1.34</td>\n",
              "      <td>72.15</td>\n",
              "      <td>30.18</td>\n",
              "      <td>0.0</td>\n",
              "    </tr>\n",
              "    <tr>\n",
              "      <th>CD141_P10_S74</th>\n",
              "      <td>0.00</td>\n",
              "      <td>0.0</td>\n",
              "      <td>0.0</td>\n",
              "      <td>0.00</td>\n",
              "      <td>0.00</td>\n",
              "      <td>0.0</td>\n",
              "      <td>0.00</td>\n",
              "      <td>0.0</td>\n",
              "      <td>0.0</td>\n",
              "      <td>0.00</td>\n",
              "      <td>0.0</td>\n",
              "      <td>0.00</td>\n",
              "      <td>0.0</td>\n",
              "      <td>0.0</td>\n",
              "      <td>0.0</td>\n",
              "      <td>0.00</td>\n",
              "      <td>0.00</td>\n",
              "      <td>0.00</td>\n",
              "      <td>0.0</td>\n",
              "      <td>0.0</td>\n",
              "      <td>0.0</td>\n",
              "      <td>0.0</td>\n",
              "      <td>0.0</td>\n",
              "      <td>11.96</td>\n",
              "      <td>0.89</td>\n",
              "      <td>148.31</td>\n",
              "      <td>0.0</td>\n",
              "      <td>156.60</td>\n",
              "      <td>0.00</td>\n",
              "      <td>2.80</td>\n",
              "      <td>0.00</td>\n",
              "      <td>0.00</td>\n",
              "      <td>0.00</td>\n",
              "      <td>2.31</td>\n",
              "      <td>0.0</td>\n",
              "      <td>0.0</td>\n",
              "      <td>0.0</td>\n",
              "      <td>0.00</td>\n",
              "      <td>0.0</td>\n",
              "      <td>0.0</td>\n",
              "      <td>...</td>\n",
              "      <td>0.00</td>\n",
              "      <td>0.0</td>\n",
              "      <td>0.0</td>\n",
              "      <td>0.0</td>\n",
              "      <td>10.15</td>\n",
              "      <td>0.0</td>\n",
              "      <td>0.0</td>\n",
              "      <td>0.00</td>\n",
              "      <td>0.00</td>\n",
              "      <td>0.0</td>\n",
              "      <td>2.07</td>\n",
              "      <td>3.78</td>\n",
              "      <td>0.0</td>\n",
              "      <td>0.0</td>\n",
              "      <td>1.21</td>\n",
              "      <td>0.00</td>\n",
              "      <td>2.92</td>\n",
              "      <td>0.0</td>\n",
              "      <td>0.0</td>\n",
              "      <td>0.0</td>\n",
              "      <td>0.0</td>\n",
              "      <td>2.24</td>\n",
              "      <td>0.0</td>\n",
              "      <td>0.0</td>\n",
              "      <td>0.0</td>\n",
              "      <td>0.0</td>\n",
              "      <td>0.86</td>\n",
              "      <td>0.00</td>\n",
              "      <td>0.00</td>\n",
              "      <td>204.13</td>\n",
              "      <td>0.0</td>\n",
              "      <td>0.0</td>\n",
              "      <td>0.0</td>\n",
              "      <td>0.00</td>\n",
              "      <td>61.17</td>\n",
              "      <td>3.54</td>\n",
              "      <td>3.08</td>\n",
              "      <td>0.00</td>\n",
              "      <td>5.40</td>\n",
              "      <td>0.0</td>\n",
              "    </tr>\n",
              "    <tr>\n",
              "      <th>CD141_P10_S75</th>\n",
              "      <td>0.00</td>\n",
              "      <td>0.0</td>\n",
              "      <td>0.0</td>\n",
              "      <td>0.00</td>\n",
              "      <td>0.00</td>\n",
              "      <td>0.0</td>\n",
              "      <td>0.00</td>\n",
              "      <td>0.0</td>\n",
              "      <td>0.0</td>\n",
              "      <td>0.00</td>\n",
              "      <td>0.0</td>\n",
              "      <td>12.73</td>\n",
              "      <td>0.0</td>\n",
              "      <td>0.0</td>\n",
              "      <td>0.0</td>\n",
              "      <td>130.95</td>\n",
              "      <td>0.00</td>\n",
              "      <td>1.31</td>\n",
              "      <td>0.0</td>\n",
              "      <td>0.0</td>\n",
              "      <td>0.0</td>\n",
              "      <td>0.0</td>\n",
              "      <td>0.0</td>\n",
              "      <td>0.00</td>\n",
              "      <td>1.08</td>\n",
              "      <td>0.00</td>\n",
              "      <td>0.0</td>\n",
              "      <td>308.15</td>\n",
              "      <td>0.00</td>\n",
              "      <td>0.00</td>\n",
              "      <td>22.92</td>\n",
              "      <td>0.00</td>\n",
              "      <td>0.00</td>\n",
              "      <td>0.00</td>\n",
              "      <td>0.0</td>\n",
              "      <td>0.0</td>\n",
              "      <td>0.0</td>\n",
              "      <td>0.00</td>\n",
              "      <td>0.0</td>\n",
              "      <td>0.0</td>\n",
              "      <td>...</td>\n",
              "      <td>26.44</td>\n",
              "      <td>0.0</td>\n",
              "      <td>0.0</td>\n",
              "      <td>0.0</td>\n",
              "      <td>0.00</td>\n",
              "      <td>0.0</td>\n",
              "      <td>0.0</td>\n",
              "      <td>1.85</td>\n",
              "      <td>0.00</td>\n",
              "      <td>0.0</td>\n",
              "      <td>0.00</td>\n",
              "      <td>0.00</td>\n",
              "      <td>0.0</td>\n",
              "      <td>0.0</td>\n",
              "      <td>0.00</td>\n",
              "      <td>0.00</td>\n",
              "      <td>149.25</td>\n",
              "      <td>0.0</td>\n",
              "      <td>0.0</td>\n",
              "      <td>0.0</td>\n",
              "      <td>0.0</td>\n",
              "      <td>0.00</td>\n",
              "      <td>0.0</td>\n",
              "      <td>0.0</td>\n",
              "      <td>0.0</td>\n",
              "      <td>0.0</td>\n",
              "      <td>43.33</td>\n",
              "      <td>1.61</td>\n",
              "      <td>0.00</td>\n",
              "      <td>0.00</td>\n",
              "      <td>0.0</td>\n",
              "      <td>0.0</td>\n",
              "      <td>0.0</td>\n",
              "      <td>52.43</td>\n",
              "      <td>0.23</td>\n",
              "      <td>0.87</td>\n",
              "      <td>1.43</td>\n",
              "      <td>54.60</td>\n",
              "      <td>50.47</td>\n",
              "      <td>0.0</td>\n",
              "    </tr>\n",
              "    <tr>\n",
              "      <th>CD141_P10_S76</th>\n",
              "      <td>0.00</td>\n",
              "      <td>0.0</td>\n",
              "      <td>0.0</td>\n",
              "      <td>0.00</td>\n",
              "      <td>0.00</td>\n",
              "      <td>0.0</td>\n",
              "      <td>0.00</td>\n",
              "      <td>0.0</td>\n",
              "      <td>0.0</td>\n",
              "      <td>0.00</td>\n",
              "      <td>0.0</td>\n",
              "      <td>0.00</td>\n",
              "      <td>0.0</td>\n",
              "      <td>0.0</td>\n",
              "      <td>0.0</td>\n",
              "      <td>19.04</td>\n",
              "      <td>3.71</td>\n",
              "      <td>0.00</td>\n",
              "      <td>0.0</td>\n",
              "      <td>0.0</td>\n",
              "      <td>0.0</td>\n",
              "      <td>0.0</td>\n",
              "      <td>0.0</td>\n",
              "      <td>46.79</td>\n",
              "      <td>10.98</td>\n",
              "      <td>110.61</td>\n",
              "      <td>0.0</td>\n",
              "      <td>0.00</td>\n",
              "      <td>2.17</td>\n",
              "      <td>174.40</td>\n",
              "      <td>0.00</td>\n",
              "      <td>25.82</td>\n",
              "      <td>0.00</td>\n",
              "      <td>86.93</td>\n",
              "      <td>0.0</td>\n",
              "      <td>0.0</td>\n",
              "      <td>0.0</td>\n",
              "      <td>0.00</td>\n",
              "      <td>0.0</td>\n",
              "      <td>0.0</td>\n",
              "      <td>...</td>\n",
              "      <td>3.77</td>\n",
              "      <td>0.0</td>\n",
              "      <td>0.0</td>\n",
              "      <td>0.0</td>\n",
              "      <td>0.00</td>\n",
              "      <td>0.0</td>\n",
              "      <td>0.0</td>\n",
              "      <td>0.00</td>\n",
              "      <td>3.11</td>\n",
              "      <td>0.0</td>\n",
              "      <td>0.00</td>\n",
              "      <td>0.00</td>\n",
              "      <td>0.0</td>\n",
              "      <td>0.0</td>\n",
              "      <td>0.00</td>\n",
              "      <td>0.00</td>\n",
              "      <td>0.00</td>\n",
              "      <td>0.0</td>\n",
              "      <td>0.0</td>\n",
              "      <td>0.0</td>\n",
              "      <td>0.0</td>\n",
              "      <td>8.45</td>\n",
              "      <td>0.0</td>\n",
              "      <td>0.0</td>\n",
              "      <td>0.0</td>\n",
              "      <td>0.0</td>\n",
              "      <td>0.00</td>\n",
              "      <td>94.12</td>\n",
              "      <td>0.00</td>\n",
              "      <td>0.00</td>\n",
              "      <td>0.0</td>\n",
              "      <td>0.0</td>\n",
              "      <td>0.0</td>\n",
              "      <td>0.00</td>\n",
              "      <td>0.00</td>\n",
              "      <td>7.82</td>\n",
              "      <td>1.93</td>\n",
              "      <td>46.58</td>\n",
              "      <td>0.00</td>\n",
              "      <td>0.0</td>\n",
              "    </tr>\n",
              "    <tr>\n",
              "      <th>CD141_P10_S77</th>\n",
              "      <td>2.35</td>\n",
              "      <td>0.0</td>\n",
              "      <td>0.0</td>\n",
              "      <td>93.63</td>\n",
              "      <td>0.00</td>\n",
              "      <td>0.0</td>\n",
              "      <td>0.00</td>\n",
              "      <td>0.0</td>\n",
              "      <td>0.0</td>\n",
              "      <td>0.77</td>\n",
              "      <td>0.0</td>\n",
              "      <td>0.00</td>\n",
              "      <td>0.0</td>\n",
              "      <td>0.0</td>\n",
              "      <td>0.0</td>\n",
              "      <td>0.00</td>\n",
              "      <td>143.85</td>\n",
              "      <td>0.00</td>\n",
              "      <td>0.0</td>\n",
              "      <td>0.0</td>\n",
              "      <td>0.0</td>\n",
              "      <td>0.0</td>\n",
              "      <td>0.0</td>\n",
              "      <td>0.00</td>\n",
              "      <td>0.07</td>\n",
              "      <td>0.00</td>\n",
              "      <td>0.0</td>\n",
              "      <td>0.00</td>\n",
              "      <td>1.23</td>\n",
              "      <td>2.54</td>\n",
              "      <td>0.00</td>\n",
              "      <td>0.00</td>\n",
              "      <td>0.72</td>\n",
              "      <td>0.00</td>\n",
              "      <td>0.0</td>\n",
              "      <td>0.0</td>\n",
              "      <td>0.0</td>\n",
              "      <td>8.99</td>\n",
              "      <td>0.0</td>\n",
              "      <td>0.0</td>\n",
              "      <td>...</td>\n",
              "      <td>188.57</td>\n",
              "      <td>0.0</td>\n",
              "      <td>0.0</td>\n",
              "      <td>0.0</td>\n",
              "      <td>0.00</td>\n",
              "      <td>0.0</td>\n",
              "      <td>0.0</td>\n",
              "      <td>0.46</td>\n",
              "      <td>0.00</td>\n",
              "      <td>0.0</td>\n",
              "      <td>0.35</td>\n",
              "      <td>0.84</td>\n",
              "      <td>0.0</td>\n",
              "      <td>0.0</td>\n",
              "      <td>1.71</td>\n",
              "      <td>1.20</td>\n",
              "      <td>1.88</td>\n",
              "      <td>0.0</td>\n",
              "      <td>0.0</td>\n",
              "      <td>0.0</td>\n",
              "      <td>0.0</td>\n",
              "      <td>2.30</td>\n",
              "      <td>0.0</td>\n",
              "      <td>0.0</td>\n",
              "      <td>0.0</td>\n",
              "      <td>0.0</td>\n",
              "      <td>0.00</td>\n",
              "      <td>0.20</td>\n",
              "      <td>26.03</td>\n",
              "      <td>0.00</td>\n",
              "      <td>0.0</td>\n",
              "      <td>0.0</td>\n",
              "      <td>0.0</td>\n",
              "      <td>0.00</td>\n",
              "      <td>0.00</td>\n",
              "      <td>2.03</td>\n",
              "      <td>2.42</td>\n",
              "      <td>17.59</td>\n",
              "      <td>0.00</td>\n",
              "      <td>0.0</td>\n",
              "    </tr>\n",
              "  </tbody>\n",
              "</table>\n",
              "<p>5 rows × 26593 columns</p>\n",
              "</div>"
            ],
            "text/plain": [
              "Gene.ID        1/2-SBSRNA4  5S_RRNA  5_8S_RRNA  ...    ZYX  ZZEF1  ZZZ3\n",
              "Cell_ID                                         ...                    \n",
              "CD141_P10_S73         0.00      0.0        0.0  ...  72.15  30.18   0.0\n",
              "CD141_P10_S74         0.00      0.0        0.0  ...   0.00   5.40   0.0\n",
              "CD141_P10_S75         0.00      0.0        0.0  ...  54.60  50.47   0.0\n",
              "CD141_P10_S76         0.00      0.0        0.0  ...  46.58   0.00   0.0\n",
              "CD141_P10_S77         2.35      0.0        0.0  ...  17.59   0.00   0.0\n",
              "\n",
              "[5 rows x 26593 columns]"
            ]
          },
          "metadata": {
            "tags": []
          },
          "execution_count": 7
        }
      ]
    },
    {
      "cell_type": "code",
      "metadata": {
        "id": "enpHMdtkTGeV",
        "colab_type": "code",
        "outputId": "ad840c55-24a7-419c-8884-f1fd0499e977",
        "colab": {
          "base_uri": "https://localhost:8080/",
          "height": 235
        }
      },
      "source": [
        "cell_df=pd.read_table(data_path+folder+cell_file,skiprows=1,index_col=0)\n",
        "cell_df.index.rename('Cell_ID',inplace=1)\n",
        "cell_df.columns=['Cell_Type']\n",
        "cell_df.head()"
      ],
      "execution_count": 8,
      "outputs": [
        {
          "output_type": "execute_result",
          "data": {
            "text/html": [
              "<div>\n",
              "<style scoped>\n",
              "    .dataframe tbody tr th:only-of-type {\n",
              "        vertical-align: middle;\n",
              "    }\n",
              "\n",
              "    .dataframe tbody tr th {\n",
              "        vertical-align: top;\n",
              "    }\n",
              "\n",
              "    .dataframe thead th {\n",
              "        text-align: right;\n",
              "    }\n",
              "</style>\n",
              "<table border=\"1\" class=\"dataframe\">\n",
              "  <thead>\n",
              "    <tr style=\"text-align: right;\">\n",
              "      <th></th>\n",
              "      <th>Cell_Type</th>\n",
              "    </tr>\n",
              "    <tr>\n",
              "      <th>Cell_ID</th>\n",
              "      <th></th>\n",
              "    </tr>\n",
              "  </thead>\n",
              "  <tbody>\n",
              "    <tr>\n",
              "      <th>CD141_P10_S73</th>\n",
              "      <td>DC1</td>\n",
              "    </tr>\n",
              "    <tr>\n",
              "      <th>CD141_P10_S74</th>\n",
              "      <td>DC5</td>\n",
              "    </tr>\n",
              "    <tr>\n",
              "      <th>CD141_P10_S75</th>\n",
              "      <td>DC1</td>\n",
              "    </tr>\n",
              "    <tr>\n",
              "      <th>CD141_P10_S76</th>\n",
              "      <td>DC1</td>\n",
              "    </tr>\n",
              "    <tr>\n",
              "      <th>CD141_P10_S77</th>\n",
              "      <td>DC1</td>\n",
              "    </tr>\n",
              "  </tbody>\n",
              "</table>\n",
              "</div>"
            ],
            "text/plain": [
              "              Cell_Type\n",
              "Cell_ID                \n",
              "CD141_P10_S73       DC1\n",
              "CD141_P10_S74       DC5\n",
              "CD141_P10_S75       DC1\n",
              "CD141_P10_S76       DC1\n",
              "CD141_P10_S77       DC1"
            ]
          },
          "metadata": {
            "tags": []
          },
          "execution_count": 8
        }
      ]
    },
    {
      "cell_type": "code",
      "metadata": {
        "colab_type": "code",
        "outputId": "b7743109-d757-489b-a112-2992dccebcbb",
        "id": "HOJ6echEVenp",
        "colab": {
          "base_uri": "https://localhost:8080/",
          "height": 204
        }
      },
      "source": [
        "cell_df['Cell_Type'].value_counts()"
      ],
      "execution_count": 9,
      "outputs": [
        {
          "output_type": "execute_result",
          "data": {
            "text/plain": [
              "DC4      173\n",
              "DC6      173\n",
              "DC1      165\n",
              "Mono1    163\n",
              "Mono2    122\n",
              "DC3      107\n",
              "DC2       94\n",
              "Mono3     31\n",
              "DC5       30\n",
              "Mono4     20\n",
              "Name: Cell_Type, dtype: int64"
            ]
          },
          "metadata": {
            "tags": []
          },
          "execution_count": 9
        }
      ]
    },
    {
      "cell_type": "code",
      "metadata": {
        "id": "87DTQ-P8lwOI",
        "colab_type": "code",
        "colab": {}
      },
      "source": [
        "expression_df=expression_df.loc[cell_df.index]\n",
        "cell_df['Cell_Type'] = pd.Categorical(cell_df['Cell_Type'])\n",
        "cell_df['Cell_Type'] = cell_df['Cell_Type'].cat.codes"
      ],
      "execution_count": 0,
      "outputs": []
    },
    {
      "cell_type": "code",
      "metadata": {
        "id": "dBMaSZiDtN_s",
        "colab_type": "code",
        "colab": {}
      },
      "source": [
        "expression_array=expression_df.values\n",
        "expression_array=expression_array[:,~np.all(expression_array == 0, axis=0)] # remove all zero columns\n",
        "expression_array_log=np.log(expression_array+1)\n",
        "cell_array=cell_df.values\n",
        "\n",
        "expression_array_top=SelectKBest(chi2, k=1000).fit_transform(expression_array_log, cell_array)\n",
        "expression_array_normalized=np.round(expression_array_top) \n",
        "#(expression_array_top / np.linalg.norm(expression_array_top),3)"
      ],
      "execution_count": 0,
      "outputs": []
    },
    {
      "cell_type": "code",
      "metadata": {
        "id": "XK62_noPyRLM",
        "colab_type": "code",
        "outputId": "7854a7d5-ade4-4cc6-ff25-a4cb0a5e2369",
        "colab": {
          "base_uri": "https://localhost:8080/",
          "height": 88
        }
      },
      "source": [
        "np.random.seed(1)\n",
        "X_train, X_test, y_train, y_test = train_test_split(\n",
        "    expression_array_normalized, cell_array, test_size=0.33, random_state=1)\n",
        "clf = svm.SVC(decision_function_shape='ovo')\n",
        "y_predict=clf.fit(X_train, y_train)\n",
        "y_predict=clf.predict(X_test)\n",
        "accuracy_score(y_test, y_predict)"
      ],
      "execution_count": 13,
      "outputs": [
        {
          "output_type": "stream",
          "text": [
            "/usr/local/lib/python3.6/dist-packages/sklearn/utils/validation.py:760: DataConversionWarning: A column-vector y was passed when a 1d array was expected. Please change the shape of y to (n_samples, ), for example using ravel().\n",
            "  y = column_or_1d(y, warn=True)\n"
          ],
          "name": "stderr"
        },
        {
          "output_type": "execute_result",
          "data": {
            "text/plain": [
              "0.9325842696629213"
            ]
          },
          "metadata": {
            "tags": []
          },
          "execution_count": 13
        }
      ]
    },
    {
      "cell_type": "code",
      "metadata": {
        "id": "ApY55eq4XwmS",
        "colab_type": "code",
        "outputId": "a69e9c86-4c56-4bcf-e109-1c9fbffa5140",
        "colab": {
          "base_uri": "https://localhost:8080/",
          "height": 204
        }
      },
      "source": [
        "predictions=pd.DataFrame(data={'label':list(itertools.chain(*y_test)),'predicted':list(y_predict)})\n",
        "predictions.head()"
      ],
      "execution_count": 14,
      "outputs": [
        {
          "output_type": "execute_result",
          "data": {
            "text/html": [
              "<div>\n",
              "<style scoped>\n",
              "    .dataframe tbody tr th:only-of-type {\n",
              "        vertical-align: middle;\n",
              "    }\n",
              "\n",
              "    .dataframe tbody tr th {\n",
              "        vertical-align: top;\n",
              "    }\n",
              "\n",
              "    .dataframe thead th {\n",
              "        text-align: right;\n",
              "    }\n",
              "</style>\n",
              "<table border=\"1\" class=\"dataframe\">\n",
              "  <thead>\n",
              "    <tr style=\"text-align: right;\">\n",
              "      <th></th>\n",
              "      <th>label</th>\n",
              "      <th>predicted</th>\n",
              "    </tr>\n",
              "  </thead>\n",
              "  <tbody>\n",
              "    <tr>\n",
              "      <th>0</th>\n",
              "      <td>3</td>\n",
              "      <td>3</td>\n",
              "    </tr>\n",
              "    <tr>\n",
              "      <th>1</th>\n",
              "      <td>1</td>\n",
              "      <td>1</td>\n",
              "    </tr>\n",
              "    <tr>\n",
              "      <th>2</th>\n",
              "      <td>3</td>\n",
              "      <td>3</td>\n",
              "    </tr>\n",
              "    <tr>\n",
              "      <th>3</th>\n",
              "      <td>0</td>\n",
              "      <td>0</td>\n",
              "    </tr>\n",
              "    <tr>\n",
              "      <th>4</th>\n",
              "      <td>3</td>\n",
              "      <td>3</td>\n",
              "    </tr>\n",
              "  </tbody>\n",
              "</table>\n",
              "</div>"
            ],
            "text/plain": [
              "   label  predicted\n",
              "0      3          3\n",
              "1      1          1\n",
              "2      3          3\n",
              "3      0          0\n",
              "4      3          3"
            ]
          },
          "metadata": {
            "tags": []
          },
          "execution_count": 14
        }
      ]
    },
    {
      "cell_type": "code",
      "metadata": {
        "id": "pNj4MrLUHS6Y",
        "colab_type": "code",
        "outputId": "16c54667-3cc1-476d-8d3b-01a4bdecda5d",
        "colab": {
          "base_uri": "https://localhost:8080/",
          "height": 34
        }
      },
      "source": [
        "%tensorflow_version 2.x\n",
        "from __future__ import absolute_import, division, print_function, unicode_literals\n",
        "import tensorflow as tf"
      ],
      "execution_count": 15,
      "outputs": [
        {
          "output_type": "stream",
          "text": [
            "TensorFlow 2.x selected.\n"
          ],
          "name": "stdout"
        }
      ]
    },
    {
      "cell_type": "code",
      "metadata": {
        "id": "Aa6TYmZwO8K7",
        "colab_type": "code",
        "colab": {}
      },
      "source": [
        "tf.random.set_seed(1)"
      ],
      "execution_count": 0,
      "outputs": []
    },
    {
      "cell_type": "code",
      "metadata": {
        "id": "Ns687CRMTK_s",
        "colab_type": "code",
        "outputId": "6d3dab1a-0cdf-4612-9c5a-a37a9f60b7d3",
        "colab": {
          "base_uri": "https://localhost:8080/",
          "height": 34
        }
      },
      "source": [
        "dataset=tf.data.Dataset.from_tensor_slices((expression_array_normalized,cell_array ))\n",
        "dataset"
      ],
      "execution_count": 17,
      "outputs": [
        {
          "output_type": "execute_result",
          "data": {
            "text/plain": [
              "<TensorSliceDataset shapes: ((1000,), (1,)), types: (tf.float64, tf.int8)>"
            ]
          },
          "metadata": {
            "tags": []
          },
          "execution_count": 17
        }
      ]
    },
    {
      "cell_type": "code",
      "metadata": {
        "id": "PEPa6o37lrtJ",
        "colab_type": "code",
        "outputId": "753b1b07-a3da-464f-d998-4d86f9799278",
        "colab": {
          "base_uri": "https://localhost:8080/",
          "height": 731
        }
      },
      "source": [
        "for feat, targ in dataset.take(1):\n",
        "  print ('Features: {}, Target: {}'.format(feat, targ))"
      ],
      "execution_count": 33,
      "outputs": [
        {
          "output_type": "stream",
          "text": [
            "Features: [0. 1. 0. 4. 0. 0. 0. 0. 0. 0. 2. 2. 5. 0. 0. 0. 0. 5. 0. 0. 0. 5. 0. 0.\n",
            " 3. 0. 0. 0. 0. 0. 0. 0. 1. 0. 0. 0. 4. 0. 0. 0. 0. 0. 0. 0. 1. 4. 7. 0.\n",
            " 5. 5. 2. 0. 5. 2. 6. 1. 0. 0. 0. 0. 0. 4. 4. 3. 0. 0. 0. 0. 3. 0. 0. 0.\n",
            " 0. 0. 3. 0. 0. 0. 4. 0. 5. 0. 2. 0. 1. 3. 5. 5. 0. 0. 0. 5. 0. 0. 4. 0.\n",
            " 0. 5. 0. 0. 3. 0. 0. 0. 0. 0. 0. 0. 0. 4. 0. 0. 0. 0. 0. 2. 2. 7. 0. 4.\n",
            " 4. 0. 0. 0. 0. 5. 5. 0. 0. 5. 0. 4. 5. 0. 6. 3. 0. 0. 3. 0. 0. 4. 0. 0.\n",
            " 0. 0. 0. 0. 6. 0. 0. 0. 0. 0. 0. 0. 4. 0. 0. 0. 0. 0. 0. 0. 0. 0. 0. 0.\n",
            " 0. 0. 0. 0. 3. 7. 0. 5. 5. 0. 0. 0. 5. 5. 2. 0. 3. 0. 5. 0. 6. 0. 0. 0.\n",
            " 0. 0. 0. 0. 5. 0. 0. 5. 0. 0. 0. 0. 0. 0. 0. 5. 0. 0. 0. 0. 0. 4. 6. 6.\n",
            " 0. 2. 5. 0. 0. 0. 0. 6. 6. 9. 0. 0. 0. 0. 1. 0. 0. 0. 6. 0. 0. 7. 0. 0.\n",
            " 0. 4. 1. 0. 5. 0. 0. 1. 0. 5. 0. 0. 0. 1. 0. 0. 0. 0. 0. 0. 0. 0. 4. 0.\n",
            " 2. 0. 1. 1. 4. 0. 4. 0. 0. 6. 3. 3. 3. 1. 0. 0. 0. 0. 0. 0. 2. 6. 0. 0.\n",
            " 0. 5. 7. 0. 4. 0. 0. 4. 0. 0. 0. 3. 0. 0. 0. 0. 0. 0. 0. 0. 0. 4. 0. 0.\n",
            " 1. 0. 0. 1. 0. 4. 0. 0. 0. 6. 0. 0. 4. 0. 0. 0. 0. 4. 0. 0. 0. 5. 0. 1.\n",
            " 0. 0. 0. 0. 0. 1. 0. 4. 0. 0. 0. 0. 0. 7. 5. 0. 0. 3. 0. 4. 0. 0. 0. 4.\n",
            " 0. 0. 0. 0. 4. 0. 0. 0. 0. 0. 0. 0. 0. 5. 0. 0. 0. 0. 0. 0. 0. 0. 5. 0.\n",
            " 3. 0. 1. 0. 0. 0. 3. 0. 6. 0. 0. 0. 0. 0. 6. 0. 5. 2. 0. 0. 0. 0. 0. 0.\n",
            " 0. 0. 0. 5. 5. 0. 0. 4. 0. 5. 5. 0. 6. 6. 7. 9. 6. 9. 9. 8. 4. 6. 0. 0.\n",
            " 0. 0. 0. 0. 0. 0. 6. 6. 8. 0. 6. 0. 0. 0. 0. 0. 0. 4. 4. 0. 0. 6. 0. 0.\n",
            " 0. 0. 0. 5. 0. 0. 0. 0. 0. 1. 0. 0. 5. 0. 0. 0. 0. 8. 0. 0. 0. 4. 0. 0.\n",
            " 0. 0. 0. 0. 0. 0. 0. 0. 0. 0. 6. 0. 4. 0. 0. 0. 0. 1. 4. 0. 0. 0. 0. 0.\n",
            " 0. 4. 2. 0. 0. 4. 0. 0. 7. 0. 5. 0. 7. 0. 0. 0. 0. 0. 0. 0. 5. 0. 0. 0.\n",
            " 0. 5. 0. 0. 0. 0. 0. 0. 0. 1. 0. 0. 0. 0. 0. 3. 0. 4. 1. 0. 0. 0. 0. 5.\n",
            " 0. 3. 0. 0. 0. 3. 0. 5. 0. 3. 9. 0. 0. 0. 0. 1. 0. 0. 0. 0. 0. 1. 0. 0.\n",
            " 5. 0. 1. 0. 0. 0. 0. 0. 0. 0. 6. 0. 0. 0. 0. 0. 0. 4. 5. 0. 0. 0. 0. 0.\n",
            " 0. 6. 4. 0. 1. 5. 3. 0. 5. 0. 0. 0. 4. 0. 0. 0. 6. 1. 0. 1. 0. 0. 0. 0.\n",
            " 1. 5. 0. 0. 0. 0. 0. 0. 0. 0. 0. 1. 0. 0. 0. 4. 0. 1. 0. 0. 5. 0. 0. 0.\n",
            " 1. 0. 4. 0. 3. 0. 0. 4. 0. 0. 1. 0. 4. 4. 0. 0. 0. 0. 0. 4. 0. 5. 1. 0.\n",
            " 0. 2. 0. 0. 0. 3. 0. 0. 0. 0. 0. 0. 0. 0. 0. 1. 0. 4. 0. 0. 6. 0. 0. 5.\n",
            " 0. 5. 0. 0. 4. 0. 0. 0. 0. 0. 0. 6. 0. 6. 1. 5. 0. 0. 0. 0. 3. 0. 0. 0.\n",
            " 0. 0. 0. 0. 0. 0. 0. 0. 0. 0. 0. 0. 0. 5. 0. 0. 0. 2. 0. 1. 0. 2. 0. 0.\n",
            " 0. 0. 0. 1. 6. 0. 0. 5. 2. 0. 0. 1. 0. 0. 4. 0. 0. 0. 6. 6. 0. 4. 0. 0.\n",
            " 0. 0. 0. 5. 0. 3. 0. 0. 0. 0. 0. 0. 0. 2. 0. 0. 1. 0. 0. 0. 0. 0. 0. 4.\n",
            " 0. 0. 6. 0. 1. 5. 0. 3. 0. 5. 0. 0. 0. 0. 0. 0. 0. 0. 0. 0. 0. 0. 4. 0.\n",
            " 1. 0. 0. 0. 0. 0. 5. 0. 6. 5. 1. 0. 0. 0. 0. 1. 0. 0. 0. 5. 4. 0. 4. 0.\n",
            " 0. 5. 0. 0. 0. 0. 0. 2. 0. 0. 0. 0. 0. 7. 5. 0. 0. 0. 1. 5. 0. 0. 0. 0.\n",
            " 0. 0. 0. 0. 0. 5. 0. 3. 0. 1. 5. 0. 0. 3. 0. 0. 0. 0. 0. 0. 0. 2. 0. 0.\n",
            " 0. 0. 0. 0. 4. 0. 0. 5. 5. 5. 5. 0. 0. 0. 0. 4. 3. 6. 0. 0. 0. 0. 0. 0.\n",
            " 0. 0. 6. 4. 0. 0. 1. 1. 0. 5. 1. 0. 0. 0. 0. 1. 0. 0. 0. 5. 0. 0. 2. 0.\n",
            " 0. 0. 0. 0. 0. 0. 5. 0. 4. 0. 5. 0. 0. 2. 0. 6. 0. 0. 0. 0. 0. 5. 0. 5.\n",
            " 0. 0. 0. 0. 0. 0. 0. 1. 0. 4. 0. 0. 0. 4. 0. 0. 0. 4. 0. 0. 0. 2. 6. 0.\n",
            " 0. 0. 4. 1. 0. 1. 2. 0. 0. 0. 0. 4. 0. 0. 4. 0.], Target: [0]\n"
          ],
          "name": "stdout"
        }
      ]
    },
    {
      "cell_type": "code",
      "metadata": {
        "id": "H7RQB78-l4Nc",
        "colab_type": "code",
        "colab": {}
      },
      "source": [
        "train_dataset = dataset.shuffle(len(cell_df)).batch(1)\n",
        "cell_type_count=len(cell_df['Cell_Type'].value_counts())"
      ],
      "execution_count": 0,
      "outputs": []
    },
    {
      "cell_type": "code",
      "metadata": {
        "id": "OWaTDoIemBB1",
        "colab_type": "code",
        "colab": {}
      },
      "source": [
        "def get_compiled_model():\n",
        "  model = tf.keras.Sequential([\n",
        "    tf.keras.layers.Dense(100, activation='relu'),\n",
        "    tf.keras.layers.Dense(cell_type_count, activation='softmax')\n",
        "  ])\n",
        "\n",
        "  model.compile(optimizer='adam',\n",
        "                loss='sparse_categorical_crossentropy',\n",
        "                metrics=['accuracy'])\n",
        "  return model"
      ],
      "execution_count": 0,
      "outputs": []
    },
    {
      "cell_type": "code",
      "metadata": {
        "id": "XazZdb3WmhM9",
        "colab_type": "code",
        "outputId": "09530f59-7dc4-4203-9609-8d0f51a2f8c2",
        "colab": {
          "base_uri": "https://localhost:8080/",
          "height": 408
        }
      },
      "source": [
        "model = get_compiled_model()\n",
        "model.fit(X_train, y_train, epochs=10)\n",
        "model.evaluate(X_test,  y_test, verbose=2)"
      ],
      "execution_count": 35,
      "outputs": [
        {
          "output_type": "stream",
          "text": [
            "Train on 722 samples\n",
            "Epoch 1/10\n",
            "722/722 [==============================] - 0s 393us/sample - loss: 1.1229 - accuracy: 0.6787\n",
            "Epoch 2/10\n",
            "722/722 [==============================] - 0s 97us/sample - loss: 0.1970 - accuracy: 0.9252\n",
            "Epoch 3/10\n",
            "722/722 [==============================] - 0s 96us/sample - loss: 0.0796 - accuracy: 0.9737\n",
            "Epoch 4/10\n",
            "722/722 [==============================] - 0s 90us/sample - loss: 0.0250 - accuracy: 0.9945\n",
            "Epoch 5/10\n",
            "722/722 [==============================] - 0s 98us/sample - loss: 0.0116 - accuracy: 0.9972\n",
            "Epoch 6/10\n",
            "722/722 [==============================] - 0s 97us/sample - loss: 0.0076 - accuracy: 1.0000\n",
            "Epoch 7/10\n",
            "722/722 [==============================] - 0s 99us/sample - loss: 0.0044 - accuracy: 1.0000\n",
            "Epoch 8/10\n",
            "722/722 [==============================] - 0s 113us/sample - loss: 0.0035 - accuracy: 1.0000\n",
            "Epoch 9/10\n",
            "722/722 [==============================] - 0s 96us/sample - loss: 0.0029 - accuracy: 1.0000\n",
            "Epoch 10/10\n",
            "722/722 [==============================] - 0s 86us/sample - loss: 0.0026 - accuracy: 1.0000\n",
            "356/356 - 0s - loss: 0.3257 - accuracy: 0.9157\n"
          ],
          "name": "stdout"
        },
        {
          "output_type": "execute_result",
          "data": {
            "text/plain": [
              "[0.3257445170324338, 0.91573036]"
            ]
          },
          "metadata": {
            "tags": []
          },
          "execution_count": 35
        }
      ]
    },
    {
      "cell_type": "code",
      "metadata": {
        "id": "VWBOnifup9Gi",
        "colab_type": "code",
        "colab": {}
      },
      "source": [
        ""
      ],
      "execution_count": 0,
      "outputs": []
    }
  ]
}