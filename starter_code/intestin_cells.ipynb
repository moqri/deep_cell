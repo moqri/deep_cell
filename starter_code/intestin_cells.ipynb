{
  "nbformat": 4,
  "nbformat_minor": 0,
  "metadata": {
    "colab": {
      "name": "intestin_cells.ipynb",
      "provenance": [],
      "collapsed_sections": [],
      "machine_shape": "hm",
      "authorship_tag": "ABX9TyOSZQOoKI6LmIfaxoDWzN1H",
      "include_colab_link": true
    },
    "kernelspec": {
      "name": "python3",
      "display_name": "Python 3"
    },
    "accelerator": "GPU"
  },
  "cells": [
    {
      "cell_type": "markdown",
      "metadata": {
        "id": "view-in-github",
        "colab_type": "text"
      },
      "source": [
        "<a href=\"https://colab.research.google.com/github/moqri/deep_cell/blob/master/starter_code/intestin_cells.ipynb\" target=\"_parent\"><img src=\"https://colab.research.google.com/assets/colab-badge.svg\" alt=\"Open In Colab\"/></a>"
      ]
    },
    {
      "cell_type": "code",
      "metadata": {
        "id": "PzPUf4VkiXBT",
        "colab_type": "code",
        "colab": {}
      },
      "source": [
        "# Download the data Atlas of human intestin data from \n",
        "# https://singlecell.broadinstitute.org/single_cell/study/SCP44\n",
        "# and put in the /data folder\n",
        "# in particular, you need the \n",
        "# 1. raw_expression_matrix.txt (for input)\n",
        "# 2. metadata.txt (for labels)"
      ],
      "execution_count": 0,
      "outputs": []
    },
    {
      "cell_type": "code",
      "metadata": {
        "id": "ottSlbakVTDh",
        "colab_type": "code",
        "colab": {
          "base_uri": "https://localhost:8080/",
          "height": 34
        },
        "outputId": "ae465386-acca-4d80-d2fc-642282105c86"
      },
      "source": [
        "# if you already have a compressed copy of the data (single_cell_portal_blood.tar.gz):\n",
        " !mkdir data\n",
        " !tar -xf /content/single_cell_portal_intestin.tar.gz --directory /content/data/"
      ],
      "execution_count": 57,
      "outputs": [
        {
          "output_type": "stream",
          "text": [
            "mkdir: cannot create directory ‘data’: File exists\n"
          ],
          "name": "stdout"
        }
      ]
    },
    {
      "cell_type": "code",
      "metadata": {
        "id": "RmG5tBW3Yb-P",
        "colab_type": "code",
        "colab": {}
      },
      "source": [
        "data_path='/content/data/'\n",
        "folder='single_cell_portal_intestin/'\n",
        "expression_file='atlas_Log2Tpm_round2.txt'\n",
        "cell_file='atlas_metadata.txt'"
      ],
      "execution_count": 0,
      "outputs": []
    },
    {
      "cell_type": "code",
      "metadata": {
        "id": "x-J3txfsSn2N",
        "colab_type": "code",
        "colab": {}
      },
      "source": [
        "import pandas as pd\n",
        "import numpy as np\n",
        "from sklearn.feature_selection import SelectKBest, chi2\n",
        "from sklearn.metrics import accuracy_score\n",
        "from sklearn.model_selection import train_test_split\n",
        "from sklearn import svm\n",
        "import itertools"
      ],
      "execution_count": 0,
      "outputs": []
    },
    {
      "cell_type": "code",
      "metadata": {
        "id": "buGxZKRGjCgA",
        "colab_type": "code",
        "colab": {
          "base_uri": "https://localhost:8080/",
          "height": 34
        },
        "outputId": "293dedfa-995a-4610-9c93-093e21a48c11"
      },
      "source": [
        "expression_df=pd.read_table(data_path+folder+expression_file,index_col=0).transpose()\n",
        "expression_df.index.rename('Cell_ID',inplace=1)\n",
        "expression_df.shape"
      ],
      "execution_count": 60,
      "outputs": [
        {
          "output_type": "execute_result",
          "data": {
            "text/plain": [
              "(7216, 15971)"
            ]
          },
          "metadata": {
            "tags": []
          },
          "execution_count": 60
        }
      ]
    },
    {
      "cell_type": "code",
      "metadata": {
        "id": "o716KXYjTGJc",
        "colab_type": "code",
        "outputId": "21434394-ccee-4783-9331-df707fb46fc3",
        "colab": {
          "base_uri": "https://localhost:8080/",
          "height": 301
        }
      },
      "source": [
        "expression_df.head()"
      ],
      "execution_count": 61,
      "outputs": [
        {
          "output_type": "execute_result",
          "data": {
            "text/html": [
              "<div>\n",
              "<style scoped>\n",
              "    .dataframe tbody tr th:only-of-type {\n",
              "        vertical-align: middle;\n",
              "    }\n",
              "\n",
              "    .dataframe tbody tr th {\n",
              "        vertical-align: top;\n",
              "    }\n",
              "\n",
              "    .dataframe thead th {\n",
              "        text-align: right;\n",
              "    }\n",
              "</style>\n",
              "<table border=\"1\" class=\"dataframe\">\n",
              "  <thead>\n",
              "    <tr style=\"text-align: right;\">\n",
              "      <th>GENE</th>\n",
              "      <th>Mrpl15</th>\n",
              "      <th>Lypla1</th>\n",
              "      <th>Gm37988</th>\n",
              "      <th>Tcea1</th>\n",
              "      <th>Atp6v1h</th>\n",
              "      <th>Rb1cc1</th>\n",
              "      <th>4732440D04Rik</th>\n",
              "      <th>Fam150a</th>\n",
              "      <th>St18</th>\n",
              "      <th>Pcmtd1</th>\n",
              "      <th>Gm26901</th>\n",
              "      <th>Gm30414</th>\n",
              "      <th>Rrs1</th>\n",
              "      <th>Adhfe1</th>\n",
              "      <th>Mybl1</th>\n",
              "      <th>Vcpip1</th>\n",
              "      <th>1700034P13Rik</th>\n",
              "      <th>Sgk3</th>\n",
              "      <th>Mcmdc2</th>\n",
              "      <th>Snhg6</th>\n",
              "      <th>Tcf24</th>\n",
              "      <th>Cops5</th>\n",
              "      <th>Cspp1</th>\n",
              "      <th>Arfgef1</th>\n",
              "      <th>Slco5a1</th>\n",
              "      <th>Prdm14</th>\n",
              "      <th>Ncoa2</th>\n",
              "      <th>Tram1</th>\n",
              "      <th>Lactb2</th>\n",
              "      <th>Xkr9</th>\n",
              "      <th>Trpa1</th>\n",
              "      <th>Kcnb2</th>\n",
              "      <th>Terf1</th>\n",
              "      <th>Sbspon</th>\n",
              "      <th>Rpl7</th>\n",
              "      <th>Rdh10</th>\n",
              "      <th>Stau2</th>\n",
              "      <th>Ube2w</th>\n",
              "      <th>Tceb1</th>\n",
              "      <th>Tmem70</th>\n",
              "      <th>...</th>\n",
              "      <th>4930552P12Rik</th>\n",
              "      <th>Tcf7l2</th>\n",
              "      <th>Habp2</th>\n",
              "      <th>Nrap</th>\n",
              "      <th>Gm17197</th>\n",
              "      <th>Casp7</th>\n",
              "      <th>Plekhs1</th>\n",
              "      <th>Dclre1a</th>\n",
              "      <th>Nhlrc2</th>\n",
              "      <th>Adrb1</th>\n",
              "      <th>Ccdc186</th>\n",
              "      <th>Tdrd1</th>\n",
              "      <th>Vwa2</th>\n",
              "      <th>Afap1l2</th>\n",
              "      <th>Ablim1</th>\n",
              "      <th>B230217O12Rik</th>\n",
              "      <th>Fam160b1</th>\n",
              "      <th>Trub1</th>\n",
              "      <th>Atrnl1</th>\n",
              "      <th>Gfra1</th>\n",
              "      <th>Pnliprp1</th>\n",
              "      <th>Pnliprp2</th>\n",
              "      <th>Hspa12a</th>\n",
              "      <th>Eno4</th>\n",
              "      <th>Shtn1</th>\n",
              "      <th>Slc18a2</th>\n",
              "      <th>Pdzd8</th>\n",
              "      <th>Rps12-ps3</th>\n",
              "      <th>Rab11fip2</th>\n",
              "      <th>Fam204a</th>\n",
              "      <th>Cacul1</th>\n",
              "      <th>Nanos1</th>\n",
              "      <th>Eif3a</th>\n",
              "      <th>Fam45a</th>\n",
              "      <th>Sfxn4</th>\n",
              "      <th>Prdx3</th>\n",
              "      <th>Grk5</th>\n",
              "      <th>Zfp950</th>\n",
              "      <th>Gm7102</th>\n",
              "      <th>Csf2ra</th>\n",
              "    </tr>\n",
              "    <tr>\n",
              "      <th>Cell_ID</th>\n",
              "      <th></th>\n",
              "      <th></th>\n",
              "      <th></th>\n",
              "      <th></th>\n",
              "      <th></th>\n",
              "      <th></th>\n",
              "      <th></th>\n",
              "      <th></th>\n",
              "      <th></th>\n",
              "      <th></th>\n",
              "      <th></th>\n",
              "      <th></th>\n",
              "      <th></th>\n",
              "      <th></th>\n",
              "      <th></th>\n",
              "      <th></th>\n",
              "      <th></th>\n",
              "      <th></th>\n",
              "      <th></th>\n",
              "      <th></th>\n",
              "      <th></th>\n",
              "      <th></th>\n",
              "      <th></th>\n",
              "      <th></th>\n",
              "      <th></th>\n",
              "      <th></th>\n",
              "      <th></th>\n",
              "      <th></th>\n",
              "      <th></th>\n",
              "      <th></th>\n",
              "      <th></th>\n",
              "      <th></th>\n",
              "      <th></th>\n",
              "      <th></th>\n",
              "      <th></th>\n",
              "      <th></th>\n",
              "      <th></th>\n",
              "      <th></th>\n",
              "      <th></th>\n",
              "      <th></th>\n",
              "      <th></th>\n",
              "      <th></th>\n",
              "      <th></th>\n",
              "      <th></th>\n",
              "      <th></th>\n",
              "      <th></th>\n",
              "      <th></th>\n",
              "      <th></th>\n",
              "      <th></th>\n",
              "      <th></th>\n",
              "      <th></th>\n",
              "      <th></th>\n",
              "      <th></th>\n",
              "      <th></th>\n",
              "      <th></th>\n",
              "      <th></th>\n",
              "      <th></th>\n",
              "      <th></th>\n",
              "      <th></th>\n",
              "      <th></th>\n",
              "      <th></th>\n",
              "      <th></th>\n",
              "      <th></th>\n",
              "      <th></th>\n",
              "      <th></th>\n",
              "      <th></th>\n",
              "      <th></th>\n",
              "      <th></th>\n",
              "      <th></th>\n",
              "      <th></th>\n",
              "      <th></th>\n",
              "      <th></th>\n",
              "      <th></th>\n",
              "      <th></th>\n",
              "      <th></th>\n",
              "      <th></th>\n",
              "      <th></th>\n",
              "      <th></th>\n",
              "      <th></th>\n",
              "      <th></th>\n",
              "      <th></th>\n",
              "    </tr>\n",
              "  </thead>\n",
              "  <tbody>\n",
              "    <tr>\n",
              "      <th>AAACATTGTTTGGG_M1</th>\n",
              "      <td>2.10</td>\n",
              "      <td>2.1</td>\n",
              "      <td>0.0</td>\n",
              "      <td>0.0</td>\n",
              "      <td>0.0</td>\n",
              "      <td>0.0</td>\n",
              "      <td>0.0</td>\n",
              "      <td>0.0</td>\n",
              "      <td>0.0</td>\n",
              "      <td>0.0</td>\n",
              "      <td>0.0</td>\n",
              "      <td>0.0</td>\n",
              "      <td>0.00</td>\n",
              "      <td>0.0</td>\n",
              "      <td>0.0</td>\n",
              "      <td>0.0</td>\n",
              "      <td>0.0</td>\n",
              "      <td>0.0</td>\n",
              "      <td>0.0</td>\n",
              "      <td>0.0</td>\n",
              "      <td>0.0</td>\n",
              "      <td>0.00</td>\n",
              "      <td>0.0</td>\n",
              "      <td>0.0</td>\n",
              "      <td>0.0</td>\n",
              "      <td>0.0</td>\n",
              "      <td>0.0</td>\n",
              "      <td>0.0</td>\n",
              "      <td>1.4</td>\n",
              "      <td>0.0</td>\n",
              "      <td>0.0</td>\n",
              "      <td>0.0</td>\n",
              "      <td>0.0</td>\n",
              "      <td>0.0</td>\n",
              "      <td>3.64</td>\n",
              "      <td>0.0</td>\n",
              "      <td>0.0</td>\n",
              "      <td>0.0</td>\n",
              "      <td>1.40</td>\n",
              "      <td>1.40</td>\n",
              "      <td>...</td>\n",
              "      <td>0.0</td>\n",
              "      <td>0.0</td>\n",
              "      <td>0.00</td>\n",
              "      <td>0.0</td>\n",
              "      <td>0.0</td>\n",
              "      <td>0.00</td>\n",
              "      <td>0.0</td>\n",
              "      <td>0.0</td>\n",
              "      <td>0.0</td>\n",
              "      <td>0.0</td>\n",
              "      <td>0.0</td>\n",
              "      <td>0.0</td>\n",
              "      <td>0.0</td>\n",
              "      <td>0.0</td>\n",
              "      <td>0.0</td>\n",
              "      <td>0.0</td>\n",
              "      <td>0.0</td>\n",
              "      <td>0.0</td>\n",
              "      <td>0.0</td>\n",
              "      <td>0.0</td>\n",
              "      <td>0.0</td>\n",
              "      <td>0.0</td>\n",
              "      <td>0.0</td>\n",
              "      <td>0.0</td>\n",
              "      <td>0.00</td>\n",
              "      <td>0.0</td>\n",
              "      <td>0.0</td>\n",
              "      <td>0.0</td>\n",
              "      <td>0.0</td>\n",
              "      <td>0.0</td>\n",
              "      <td>1.4</td>\n",
              "      <td>0.0</td>\n",
              "      <td>0.00</td>\n",
              "      <td>0.0</td>\n",
              "      <td>0.0</td>\n",
              "      <td>2.56</td>\n",
              "      <td>0.0</td>\n",
              "      <td>0.0</td>\n",
              "      <td>0.0</td>\n",
              "      <td>0.0</td>\n",
              "    </tr>\n",
              "    <tr>\n",
              "      <th>AAACCGTGCCAAGT_M1</th>\n",
              "      <td>2.13</td>\n",
              "      <td>0.0</td>\n",
              "      <td>0.0</td>\n",
              "      <td>0.0</td>\n",
              "      <td>0.0</td>\n",
              "      <td>0.0</td>\n",
              "      <td>0.0</td>\n",
              "      <td>0.0</td>\n",
              "      <td>0.0</td>\n",
              "      <td>0.0</td>\n",
              "      <td>0.0</td>\n",
              "      <td>0.0</td>\n",
              "      <td>2.95</td>\n",
              "      <td>0.0</td>\n",
              "      <td>0.0</td>\n",
              "      <td>0.0</td>\n",
              "      <td>0.0</td>\n",
              "      <td>0.0</td>\n",
              "      <td>0.0</td>\n",
              "      <td>0.0</td>\n",
              "      <td>0.0</td>\n",
              "      <td>0.00</td>\n",
              "      <td>0.0</td>\n",
              "      <td>0.0</td>\n",
              "      <td>0.0</td>\n",
              "      <td>0.0</td>\n",
              "      <td>0.0</td>\n",
              "      <td>0.0</td>\n",
              "      <td>0.0</td>\n",
              "      <td>0.0</td>\n",
              "      <td>0.0</td>\n",
              "      <td>0.0</td>\n",
              "      <td>0.0</td>\n",
              "      <td>0.0</td>\n",
              "      <td>4.41</td>\n",
              "      <td>0.0</td>\n",
              "      <td>0.0</td>\n",
              "      <td>0.0</td>\n",
              "      <td>0.00</td>\n",
              "      <td>0.00</td>\n",
              "      <td>...</td>\n",
              "      <td>0.0</td>\n",
              "      <td>0.0</td>\n",
              "      <td>0.00</td>\n",
              "      <td>0.0</td>\n",
              "      <td>0.0</td>\n",
              "      <td>0.00</td>\n",
              "      <td>0.0</td>\n",
              "      <td>0.0</td>\n",
              "      <td>0.0</td>\n",
              "      <td>0.0</td>\n",
              "      <td>0.0</td>\n",
              "      <td>0.0</td>\n",
              "      <td>0.0</td>\n",
              "      <td>0.0</td>\n",
              "      <td>0.0</td>\n",
              "      <td>0.0</td>\n",
              "      <td>0.0</td>\n",
              "      <td>0.0</td>\n",
              "      <td>0.0</td>\n",
              "      <td>0.0</td>\n",
              "      <td>0.0</td>\n",
              "      <td>0.0</td>\n",
              "      <td>0.0</td>\n",
              "      <td>0.0</td>\n",
              "      <td>0.00</td>\n",
              "      <td>0.0</td>\n",
              "      <td>0.0</td>\n",
              "      <td>0.0</td>\n",
              "      <td>0.0</td>\n",
              "      <td>0.0</td>\n",
              "      <td>0.0</td>\n",
              "      <td>0.0</td>\n",
              "      <td>0.00</td>\n",
              "      <td>0.0</td>\n",
              "      <td>0.0</td>\n",
              "      <td>0.00</td>\n",
              "      <td>0.0</td>\n",
              "      <td>0.0</td>\n",
              "      <td>0.0</td>\n",
              "      <td>0.0</td>\n",
              "    </tr>\n",
              "    <tr>\n",
              "      <th>AAACGCACAGCCTA_M1</th>\n",
              "      <td>1.81</td>\n",
              "      <td>0.0</td>\n",
              "      <td>0.0</td>\n",
              "      <td>0.0</td>\n",
              "      <td>0.0</td>\n",
              "      <td>0.0</td>\n",
              "      <td>0.0</td>\n",
              "      <td>0.0</td>\n",
              "      <td>0.0</td>\n",
              "      <td>0.0</td>\n",
              "      <td>0.0</td>\n",
              "      <td>0.0</td>\n",
              "      <td>0.00</td>\n",
              "      <td>0.0</td>\n",
              "      <td>0.0</td>\n",
              "      <td>0.0</td>\n",
              "      <td>0.0</td>\n",
              "      <td>0.0</td>\n",
              "      <td>0.0</td>\n",
              "      <td>0.0</td>\n",
              "      <td>0.0</td>\n",
              "      <td>0.00</td>\n",
              "      <td>0.0</td>\n",
              "      <td>0.0</td>\n",
              "      <td>0.0</td>\n",
              "      <td>0.0</td>\n",
              "      <td>0.0</td>\n",
              "      <td>0.0</td>\n",
              "      <td>0.0</td>\n",
              "      <td>0.0</td>\n",
              "      <td>0.0</td>\n",
              "      <td>0.0</td>\n",
              "      <td>0.0</td>\n",
              "      <td>0.0</td>\n",
              "      <td>4.77</td>\n",
              "      <td>0.0</td>\n",
              "      <td>0.0</td>\n",
              "      <td>0.0</td>\n",
              "      <td>1.17</td>\n",
              "      <td>1.81</td>\n",
              "      <td>...</td>\n",
              "      <td>0.0</td>\n",
              "      <td>0.0</td>\n",
              "      <td>1.17</td>\n",
              "      <td>0.0</td>\n",
              "      <td>0.0</td>\n",
              "      <td>1.17</td>\n",
              "      <td>0.0</td>\n",
              "      <td>0.0</td>\n",
              "      <td>0.0</td>\n",
              "      <td>0.0</td>\n",
              "      <td>0.0</td>\n",
              "      <td>0.0</td>\n",
              "      <td>0.0</td>\n",
              "      <td>0.0</td>\n",
              "      <td>0.0</td>\n",
              "      <td>0.0</td>\n",
              "      <td>0.0</td>\n",
              "      <td>0.0</td>\n",
              "      <td>0.0</td>\n",
              "      <td>0.0</td>\n",
              "      <td>0.0</td>\n",
              "      <td>0.0</td>\n",
              "      <td>0.0</td>\n",
              "      <td>0.0</td>\n",
              "      <td>1.17</td>\n",
              "      <td>0.0</td>\n",
              "      <td>0.0</td>\n",
              "      <td>0.0</td>\n",
              "      <td>0.0</td>\n",
              "      <td>0.0</td>\n",
              "      <td>0.0</td>\n",
              "      <td>0.0</td>\n",
              "      <td>1.17</td>\n",
              "      <td>0.0</td>\n",
              "      <td>0.0</td>\n",
              "      <td>0.00</td>\n",
              "      <td>0.0</td>\n",
              "      <td>0.0</td>\n",
              "      <td>0.0</td>\n",
              "      <td>0.0</td>\n",
              "    </tr>\n",
              "    <tr>\n",
              "      <th>AAACGCACCAGATC_M1</th>\n",
              "      <td>1.71</td>\n",
              "      <td>1.1</td>\n",
              "      <td>0.0</td>\n",
              "      <td>0.0</td>\n",
              "      <td>0.0</td>\n",
              "      <td>0.0</td>\n",
              "      <td>0.0</td>\n",
              "      <td>0.0</td>\n",
              "      <td>0.0</td>\n",
              "      <td>0.0</td>\n",
              "      <td>0.0</td>\n",
              "      <td>0.0</td>\n",
              "      <td>1.71</td>\n",
              "      <td>0.0</td>\n",
              "      <td>0.0</td>\n",
              "      <td>0.0</td>\n",
              "      <td>0.0</td>\n",
              "      <td>0.0</td>\n",
              "      <td>0.0</td>\n",
              "      <td>0.0</td>\n",
              "      <td>0.0</td>\n",
              "      <td>1.71</td>\n",
              "      <td>0.0</td>\n",
              "      <td>0.0</td>\n",
              "      <td>0.0</td>\n",
              "      <td>0.0</td>\n",
              "      <td>0.0</td>\n",
              "      <td>0.0</td>\n",
              "      <td>0.0</td>\n",
              "      <td>0.0</td>\n",
              "      <td>0.0</td>\n",
              "      <td>0.0</td>\n",
              "      <td>0.0</td>\n",
              "      <td>0.0</td>\n",
              "      <td>4.42</td>\n",
              "      <td>0.0</td>\n",
              "      <td>0.0</td>\n",
              "      <td>0.0</td>\n",
              "      <td>1.71</td>\n",
              "      <td>0.00</td>\n",
              "      <td>...</td>\n",
              "      <td>0.0</td>\n",
              "      <td>0.0</td>\n",
              "      <td>0.00</td>\n",
              "      <td>0.0</td>\n",
              "      <td>0.0</td>\n",
              "      <td>2.14</td>\n",
              "      <td>0.0</td>\n",
              "      <td>0.0</td>\n",
              "      <td>0.0</td>\n",
              "      <td>0.0</td>\n",
              "      <td>0.0</td>\n",
              "      <td>0.0</td>\n",
              "      <td>0.0</td>\n",
              "      <td>0.0</td>\n",
              "      <td>0.0</td>\n",
              "      <td>0.0</td>\n",
              "      <td>0.0</td>\n",
              "      <td>0.0</td>\n",
              "      <td>0.0</td>\n",
              "      <td>0.0</td>\n",
              "      <td>0.0</td>\n",
              "      <td>0.0</td>\n",
              "      <td>0.0</td>\n",
              "      <td>0.0</td>\n",
              "      <td>0.00</td>\n",
              "      <td>0.0</td>\n",
              "      <td>0.0</td>\n",
              "      <td>0.0</td>\n",
              "      <td>1.1</td>\n",
              "      <td>0.0</td>\n",
              "      <td>0.0</td>\n",
              "      <td>0.0</td>\n",
              "      <td>3.76</td>\n",
              "      <td>0.0</td>\n",
              "      <td>0.0</td>\n",
              "      <td>0.00</td>\n",
              "      <td>0.0</td>\n",
              "      <td>1.1</td>\n",
              "      <td>0.0</td>\n",
              "      <td>0.0</td>\n",
              "    </tr>\n",
              "    <tr>\n",
              "      <th>AAACGCACCGCCTT_M1</th>\n",
              "      <td>0.00</td>\n",
              "      <td>0.0</td>\n",
              "      <td>0.0</td>\n",
              "      <td>0.0</td>\n",
              "      <td>0.0</td>\n",
              "      <td>0.0</td>\n",
              "      <td>0.0</td>\n",
              "      <td>0.0</td>\n",
              "      <td>0.0</td>\n",
              "      <td>0.0</td>\n",
              "      <td>0.0</td>\n",
              "      <td>0.0</td>\n",
              "      <td>1.97</td>\n",
              "      <td>0.0</td>\n",
              "      <td>0.0</td>\n",
              "      <td>0.0</td>\n",
              "      <td>0.0</td>\n",
              "      <td>0.0</td>\n",
              "      <td>0.0</td>\n",
              "      <td>0.0</td>\n",
              "      <td>0.0</td>\n",
              "      <td>0.00</td>\n",
              "      <td>0.0</td>\n",
              "      <td>0.0</td>\n",
              "      <td>0.0</td>\n",
              "      <td>0.0</td>\n",
              "      <td>0.0</td>\n",
              "      <td>0.0</td>\n",
              "      <td>1.3</td>\n",
              "      <td>0.0</td>\n",
              "      <td>0.0</td>\n",
              "      <td>0.0</td>\n",
              "      <td>0.0</td>\n",
              "      <td>0.0</td>\n",
              "      <td>4.61</td>\n",
              "      <td>0.0</td>\n",
              "      <td>0.0</td>\n",
              "      <td>0.0</td>\n",
              "      <td>0.00</td>\n",
              "      <td>0.00</td>\n",
              "      <td>...</td>\n",
              "      <td>0.0</td>\n",
              "      <td>0.0</td>\n",
              "      <td>0.00</td>\n",
              "      <td>1.3</td>\n",
              "      <td>0.0</td>\n",
              "      <td>0.00</td>\n",
              "      <td>0.0</td>\n",
              "      <td>0.0</td>\n",
              "      <td>0.0</td>\n",
              "      <td>0.0</td>\n",
              "      <td>0.0</td>\n",
              "      <td>0.0</td>\n",
              "      <td>0.0</td>\n",
              "      <td>0.0</td>\n",
              "      <td>0.0</td>\n",
              "      <td>0.0</td>\n",
              "      <td>0.0</td>\n",
              "      <td>0.0</td>\n",
              "      <td>0.0</td>\n",
              "      <td>0.0</td>\n",
              "      <td>0.0</td>\n",
              "      <td>0.0</td>\n",
              "      <td>0.0</td>\n",
              "      <td>0.0</td>\n",
              "      <td>0.00</td>\n",
              "      <td>0.0</td>\n",
              "      <td>0.0</td>\n",
              "      <td>0.0</td>\n",
              "      <td>0.0</td>\n",
              "      <td>1.3</td>\n",
              "      <td>0.0</td>\n",
              "      <td>0.0</td>\n",
              "      <td>1.97</td>\n",
              "      <td>0.0</td>\n",
              "      <td>0.0</td>\n",
              "      <td>1.30</td>\n",
              "      <td>0.0</td>\n",
              "      <td>0.0</td>\n",
              "      <td>0.0</td>\n",
              "      <td>0.0</td>\n",
              "    </tr>\n",
              "  </tbody>\n",
              "</table>\n",
              "<p>5 rows × 15971 columns</p>\n",
              "</div>"
            ],
            "text/plain": [
              "GENE               Mrpl15  Lypla1  Gm37988  Tcea1  ...  Grk5  Zfp950  Gm7102  Csf2ra\n",
              "Cell_ID                                            ...                              \n",
              "AAACATTGTTTGGG_M1    2.10     2.1      0.0    0.0  ...   0.0     0.0     0.0     0.0\n",
              "AAACCGTGCCAAGT_M1    2.13     0.0      0.0    0.0  ...   0.0     0.0     0.0     0.0\n",
              "AAACGCACAGCCTA_M1    1.81     0.0      0.0    0.0  ...   0.0     0.0     0.0     0.0\n",
              "AAACGCACCAGATC_M1    1.71     1.1      0.0    0.0  ...   0.0     1.1     0.0     0.0\n",
              "AAACGCACCGCCTT_M1    0.00     0.0      0.0    0.0  ...   0.0     0.0     0.0     0.0\n",
              "\n",
              "[5 rows x 15971 columns]"
            ]
          },
          "metadata": {
            "tags": []
          },
          "execution_count": 61
        }
      ]
    },
    {
      "cell_type": "code",
      "metadata": {
        "id": "enpHMdtkTGeV",
        "colab_type": "code",
        "outputId": "7dac9d9c-a912-4aef-9906-33af5d4e88e1",
        "colab": {
          "base_uri": "https://localhost:8080/",
          "height": 34
        }
      },
      "source": [
        "cell_df=pd.read_table(data_path+folder+cell_file,skiprows=1,index_col=0)\n",
        "cell_df.index.rename('Cell_ID',inplace=1)\n",
        "cell_df=cell_df[['group.1']]\n",
        "cell_df.columns=['Cell_Type']\n",
        "cell_df.shape"
      ],
      "execution_count": 62,
      "outputs": [
        {
          "output_type": "execute_result",
          "data": {
            "text/plain": [
              "(28723, 1)"
            ]
          },
          "metadata": {
            "tags": []
          },
          "execution_count": 62
        }
      ]
    },
    {
      "cell_type": "code",
      "metadata": {
        "id": "sk5lWAxOcihI",
        "colab_type": "code",
        "colab": {
          "base_uri": "https://localhost:8080/",
          "height": 235
        },
        "outputId": "d442cf59-bc15-49d4-a1a6-b9dc0fa89c24"
      },
      "source": [
        "cell_df.head()"
      ],
      "execution_count": 63,
      "outputs": [
        {
          "output_type": "execute_result",
          "data": {
            "text/html": [
              "<div>\n",
              "<style scoped>\n",
              "    .dataframe tbody tr th:only-of-type {\n",
              "        vertical-align: middle;\n",
              "    }\n",
              "\n",
              "    .dataframe tbody tr th {\n",
              "        vertical-align: top;\n",
              "    }\n",
              "\n",
              "    .dataframe thead th {\n",
              "        text-align: right;\n",
              "    }\n",
              "</style>\n",
              "<table border=\"1\" class=\"dataframe\">\n",
              "  <thead>\n",
              "    <tr style=\"text-align: right;\">\n",
              "      <th></th>\n",
              "      <th>Cell_Type</th>\n",
              "    </tr>\n",
              "    <tr>\n",
              "      <th>Cell_ID</th>\n",
              "      <th></th>\n",
              "    </tr>\n",
              "  </thead>\n",
              "  <tbody>\n",
              "    <tr>\n",
              "      <th>AAACATTGTTTGGG_M1</th>\n",
              "      <td>Enterocyte.Immature.Distal</td>\n",
              "    </tr>\n",
              "    <tr>\n",
              "      <th>AAACCGTGCCAAGT_M1</th>\n",
              "      <td>Tuft</td>\n",
              "    </tr>\n",
              "    <tr>\n",
              "      <th>AAACGCACAGCCTA_M1</th>\n",
              "      <td>Goblet</td>\n",
              "    </tr>\n",
              "    <tr>\n",
              "      <th>AAACGCACCAGATC_M1</th>\n",
              "      <td>Enteroendocrine</td>\n",
              "    </tr>\n",
              "    <tr>\n",
              "      <th>AAACGCACCGCCTT_M1</th>\n",
              "      <td>Stem</td>\n",
              "    </tr>\n",
              "  </tbody>\n",
              "</table>\n",
              "</div>"
            ],
            "text/plain": [
              "                                    Cell_Type\n",
              "Cell_ID                                      \n",
              "AAACATTGTTTGGG_M1  Enterocyte.Immature.Distal\n",
              "AAACCGTGCCAAGT_M1                        Tuft\n",
              "AAACGCACAGCCTA_M1                      Goblet\n",
              "AAACGCACCAGATC_M1             Enteroendocrine\n",
              "AAACGCACCGCCTT_M1                        Stem"
            ]
          },
          "metadata": {
            "tags": []
          },
          "execution_count": 63
        }
      ]
    },
    {
      "cell_type": "code",
      "metadata": {
        "colab_type": "code",
        "outputId": "47640009-8aec-4f08-90b7-2fda60c84bcc",
        "id": "HOJ6echEVenp",
        "colab": {
          "base_uri": "https://localhost:8080/",
          "height": 357
        }
      },
      "source": [
        "cell_df['Cell_Type'].value_counts()"
      ],
      "execution_count": 64,
      "outputs": [
        {
          "output_type": "execute_result",
          "data": {
            "text/plain": [
              "Stem                            6803\n",
              "TA                              4164\n",
              "Goblet                          2827\n",
              "Enterocyte                      2499\n",
              "Enterocyte.Progenitor           2178\n",
              "TA.Early                        1970\n",
              "EP                              1957\n",
              "Tuft                             840\n",
              "Enterocyte.Progenitor.Early      829\n",
              "Paneth                           789\n",
              "Enteroendocrine                  634\n",
              "Enterocyte.Mature.Proximal       581\n",
              "Enterocyte.Immature.Distal       512\n",
              "TA.G2                            410\n",
              "TA.G1                            408\n",
              "Enterocyte.Progenitor.Late       404\n",
              "Endocrine                        380\n",
              "Enterocyte.Immature.Proximal     297\n",
              "Enterocyte.Mature.Distal         241\n",
              "Name: Cell_Type, dtype: int64"
            ]
          },
          "metadata": {
            "tags": []
          },
          "execution_count": 64
        }
      ]
    },
    {
      "cell_type": "code",
      "metadata": {
        "id": "87DTQ-P8lwOI",
        "colab_type": "code",
        "colab": {}
      },
      "source": [
        "shared=set(cell_df.index)&set(expression_df.index)\n",
        "expression_df=expression_df.loc[shared]\n",
        "cell_df=cell_df.loc[shared]"
      ],
      "execution_count": 0,
      "outputs": []
    },
    {
      "cell_type": "code",
      "metadata": {
        "id": "TIRHr46jeA3V",
        "colab_type": "code",
        "colab": {}
      },
      "source": [
        "cell_df['Cell_Type'] = pd.Categorical(cell_df['Cell_Type'])\n",
        "cell_df['Cell_Type'] = cell_df['Cell_Type'].cat.codes"
      ],
      "execution_count": 0,
      "outputs": []
    },
    {
      "cell_type": "code",
      "metadata": {
        "id": "dBMaSZiDtN_s",
        "colab_type": "code",
        "colab": {}
      },
      "source": [
        "expression_array=expression_df.values\n",
        "expression_array=expression_array[:,~np.all(expression_array == 0, axis=0)] # remove all zero columns\n",
        "#expression_array_log=np.log(expression_array+1)\n",
        "cell_array=cell_df.values\n",
        "\n",
        "expression_array_top=SelectKBest(chi2, k=1000).fit_transform(expression_array, cell_array)\n",
        "expression_array_normalized=np.round(expression_array_top) \n",
        "#(expression_array_top / np.linalg.norm(expression_array_top),3)"
      ],
      "execution_count": 0,
      "outputs": []
    },
    {
      "cell_type": "code",
      "metadata": {
        "id": "XK62_noPyRLM",
        "colab_type": "code",
        "outputId": "6bc9e1a6-3784-4e63-9e5c-6e7908e2c459",
        "colab": {
          "base_uri": "https://localhost:8080/",
          "height": 88
        }
      },
      "source": [
        "np.random.seed(1)\n",
        "X_train, X_test, y_train, y_test = train_test_split(\n",
        "    expression_array_normalized, cell_array, test_size=0.33, random_state=1)\n",
        "clf = svm.SVC(decision_function_shape='ovo')\n",
        "y_predict=clf.fit(X_train, y_train)\n",
        "y_predict=clf.predict(X_test)\n",
        "accuracy_score(y_test, y_predict)"
      ],
      "execution_count": 114,
      "outputs": [
        {
          "output_type": "stream",
          "text": [
            "/usr/local/lib/python3.6/dist-packages/sklearn/utils/validation.py:760: DataConversionWarning: A column-vector y was passed when a 1d array was expected. Please change the shape of y to (n_samples, ), for example using ravel().\n",
            "  y = column_or_1d(y, warn=True)\n"
          ],
          "name": "stderr"
        },
        {
          "output_type": "execute_result",
          "data": {
            "text/plain": [
              "0.7598656591099916"
            ]
          },
          "metadata": {
            "tags": []
          },
          "execution_count": 114
        }
      ]
    },
    {
      "cell_type": "code",
      "metadata": {
        "id": "ApY55eq4XwmS",
        "colab_type": "code",
        "outputId": "2b355de1-156b-44ba-88ee-fca0116613cf",
        "colab": {
          "base_uri": "https://localhost:8080/",
          "height": 204
        }
      },
      "source": [
        "predictions=pd.DataFrame(data={'label':list(itertools.chain(*y_test)),'predicted':list(y_predict)})\n",
        "predictions.head()"
      ],
      "execution_count": 115,
      "outputs": [
        {
          "output_type": "execute_result",
          "data": {
            "text/html": [
              "<div>\n",
              "<style scoped>\n",
              "    .dataframe tbody tr th:only-of-type {\n",
              "        vertical-align: middle;\n",
              "    }\n",
              "\n",
              "    .dataframe tbody tr th {\n",
              "        vertical-align: top;\n",
              "    }\n",
              "\n",
              "    .dataframe thead th {\n",
              "        text-align: right;\n",
              "    }\n",
              "</style>\n",
              "<table border=\"1\" class=\"dataframe\">\n",
              "  <thead>\n",
              "    <tr style=\"text-align: right;\">\n",
              "      <th></th>\n",
              "      <th>label</th>\n",
              "      <th>predicted</th>\n",
              "    </tr>\n",
              "  </thead>\n",
              "  <tbody>\n",
              "    <tr>\n",
              "      <th>0</th>\n",
              "      <td>4</td>\n",
              "      <td>0</td>\n",
              "    </tr>\n",
              "    <tr>\n",
              "      <th>1</th>\n",
              "      <td>6</td>\n",
              "      <td>11</td>\n",
              "    </tr>\n",
              "    <tr>\n",
              "      <th>2</th>\n",
              "      <td>0</td>\n",
              "      <td>4</td>\n",
              "    </tr>\n",
              "    <tr>\n",
              "      <th>3</th>\n",
              "      <td>13</td>\n",
              "      <td>13</td>\n",
              "    </tr>\n",
              "    <tr>\n",
              "      <th>4</th>\n",
              "      <td>0</td>\n",
              "      <td>0</td>\n",
              "    </tr>\n",
              "  </tbody>\n",
              "</table>\n",
              "</div>"
            ],
            "text/plain": [
              "   label  predicted\n",
              "0      4          0\n",
              "1      6         11\n",
              "2      0          4\n",
              "3     13         13\n",
              "4      0          0"
            ]
          },
          "metadata": {
            "tags": []
          },
          "execution_count": 115
        }
      ]
    },
    {
      "cell_type": "code",
      "metadata": {
        "id": "pNj4MrLUHS6Y",
        "colab_type": "code",
        "colab": {}
      },
      "source": [
        "%tensorflow_version 2.x\n",
        "from __future__ import absolute_import, division, print_function, unicode_literals\n",
        "import tensorflow as tf"
      ],
      "execution_count": 0,
      "outputs": []
    },
    {
      "cell_type": "code",
      "metadata": {
        "id": "Aa6TYmZwO8K7",
        "colab_type": "code",
        "colab": {}
      },
      "source": [
        "tf.random.set_seed(1)"
      ],
      "execution_count": 0,
      "outputs": []
    },
    {
      "cell_type": "code",
      "metadata": {
        "id": "Ns687CRMTK_s",
        "colab_type": "code",
        "outputId": "230a32e1-5ca6-487c-d9ef-ea50bed71ce9",
        "colab": {
          "base_uri": "https://localhost:8080/",
          "height": 34
        }
      },
      "source": [
        "dataset=tf.data.Dataset.from_tensor_slices((expression_array_normalized,cell_array ))\n",
        "dataset"
      ],
      "execution_count": 118,
      "outputs": [
        {
          "output_type": "execute_result",
          "data": {
            "text/plain": [
              "<TensorSliceDataset shapes: ((1000,), (1,)), types: (tf.float64, tf.int8)>"
            ]
          },
          "metadata": {
            "tags": []
          },
          "execution_count": 118
        }
      ]
    },
    {
      "cell_type": "code",
      "metadata": {
        "id": "PEPa6o37lrtJ",
        "colab_type": "code",
        "outputId": "81f8e595-9018-4049-9dab-45d71bd1e2eb",
        "colab": {
          "base_uri": "https://localhost:8080/",
          "height": 969
        }
      },
      "source": [
        "for feat, targ in dataset.take(1):\n",
        "  print ('Features: {}, Target: {}'.format(feat, targ))"
      ],
      "execution_count": 120,
      "outputs": [
        {
          "output_type": "stream",
          "text": [
            "Features: [ 0.  0.  0.  0.  0.  0.  0.  0.  2.  2.  3.  0.  0.  0.  0.  0.  0.  0.\n",
            "  0.  0.  0.  0.  0.  0.  2.  0.  0.  0.  0.  0.  3.  0.  2.  0.  0.  2.\n",
            "  0.  2.  0.  0.  0.  0.  5.  0.  0.  2.  0.  0.  0.  0.  0.  2.  0.  0.\n",
            "  2.  2.  0.  0.  4.  0.  2.  0.  0.  3.  0.  0.  0.  0.  0.  0.  0.  2.\n",
            "  2.  0.  0.  0.  0.  2.  0.  0.  0.  2.  0.  0.  0.  3.  0.  0.  0.  0.\n",
            "  0.  0.  0.  6.  0.  0.  0.  0.  2.  0.  0.  4.  2.  0.  2.  0.  0.  0.\n",
            "  2.  0.  0.  0.  0.  0.  0.  0.  0.  0.  0.  0.  0.  0.  0.  0.  0.  0.\n",
            "  2.  2.  0.  0.  0.  3.  0.  3.  0.  0.  2.  2.  2.  0.  0.  0.  0.  2.\n",
            "  3.  0.  0.  0.  0.  0.  0.  0.  0.  0.  4.  0.  3.  0.  0.  0.  0.  0.\n",
            "  0.  0.  2.  0.  0.  0.  0.  2.  0.  0.  0.  0.  0.  0.  0.  0.  0.  0.\n",
            "  0.  0.  0.  4.  0.  0.  4.  2.  2.  0.  3.  0.  0.  0.  2.  2.  0.  0.\n",
            "  8.  0.  2.  0.  0.  0.  3.  0.  0.  2.  3.  0.  2.  2.  4.  0.  0.  0.\n",
            "  3.  0.  0.  0.  2.  0.  0.  2.  0.  0.  0.  0.  5.  0.  2.  2.  0.  0.\n",
            "  0.  4.  2.  3.  0.  0.  2.  0.  0.  0.  0.  6.  6.  0.  0.  2.  0.  0.\n",
            "  0.  0.  0.  0.  0.  0.  3.  0.  0.  0.  3.  0.  0.  3.  3.  0.  3.  0.\n",
            "  2.  0.  2.  2.  4.  2.  0.  0.  0.  3.  0.  3.  2.  3.  2.  0.  0.  0.\n",
            "  0.  2.  2.  0.  0.  0.  2.  0.  0.  0.  2.  3.  0.  0.  0.  0.  0.  0.\n",
            "  0.  4.  0.  0.  3.  2.  0.  0.  0.  6.  0.  4.  0.  0.  0.  0.  0.  0.\n",
            "  0.  0.  0.  2.  0.  2.  0.  2.  0.  2.  0.  0.  2.  0.  0.  0.  2.  0.\n",
            "  2.  5.  0.  0.  2.  3.  2.  0.  0.  3.  0.  2.  2.  0.  3.  0.  0.  0.\n",
            "  0.  2.  0.  0.  0.  0.  2.  0.  0.  0.  0.  0.  0.  5.  2.  0.  4.  0.\n",
            "  0.  0.  0.  2.  2.  0.  0.  0.  0.  0.  0.  0.  5.  2.  0.  0.  2.  0.\n",
            "  2.  3.  0.  2.  0.  7.  2.  0.  0.  0.  0.  0.  0.  3.  0.  0.  0.  0.\n",
            "  2.  0.  0.  2.  2.  4.  0.  0.  3.  0.  0.  0.  6.  0.  2.  0.  2.  3.\n",
            "  2.  0.  0.  0.  0.  0.  0.  2.  2.  0.  0.  0.  0.  0.  0.  0.  0.  2.\n",
            "  0.  3.  0.  2.  0.  0.  0.  0.  0.  2.  0.  7.  0.  0.  0.  4.  2.  0.\n",
            "  0.  2.  0.  0.  0.  0.  0.  2.  0.  0.  0.  0.  0.  0.  3.  3.  0.  0.\n",
            "  0.  0.  0.  2.  2.  0.  0.  2.  0.  2.  0.  0.  0.  2.  3.  0.  3.  0.\n",
            "  6.  2.  0.  0.  2.  0.  2.  0.  0.  0.  0.  3.  0.  0.  4.  0.  0.  0.\n",
            "  0.  0.  3.  0.  0.  0.  0.  2.  0.  2.  2.  3.  0.  0.  0.  0.  0.  0.\n",
            "  0.  0.  0.  2.  0.  0.  4.  0.  2.  0.  0.  2.  0.  0.  0.  3.  0.  0.\n",
            "  0.  0.  0.  0.  0.  0.  0.  0.  0.  4.  5.  3.  0.  0.  2.  0.  0.  0.\n",
            "  0.  0.  0.  3.  0.  0.  0.  0.  0.  0.  0.  0.  0.  0.  0.  3.  0.  0.\n",
            "  2.  2.  0.  0.  0.  0.  0.  0.  3.  3.  0.  0.  2.  0.  0.  0.  0.  0.\n",
            "  2.  0.  0.  0.  0.  0.  4.  0.  0.  0.  3.  0.  0.  9.  6.  4.  0.  0.\n",
            "  0.  0.  2.  0.  3.  0.  3.  0.  0.  4.  0.  0.  0.  0.  0.  0.  0.  0.\n",
            "  0.  0.  0.  4.  7.  0.  0.  0.  2.  0.  0.  0.  0.  2.  3.  2.  2.  0.\n",
            "  0.  2.  0.  0.  3.  0.  0.  0.  0.  0.  3.  0.  0.  0.  0.  0.  2.  0.\n",
            "  8.  0.  2.  0.  3.  3.  0.  0.  0.  0.  0.  0.  0.  0.  3.  0.  0.  0.\n",
            "  0.  4.  0.  0.  2.  0.  4.  0.  4.  0.  3.  0.  0.  0.  0.  2.  0.  0.\n",
            "  3.  2.  0.  0.  0.  0.  4.  0.  4.  0.  3.  0.  0.  0.  0.  0.  0.  2.\n",
            "  0.  2.  0.  0.  0.  4.  0.  3.  0.  0.  2.  0.  0.  3.  0.  3.  2.  0.\n",
            "  0.  2.  0.  3.  0.  0.  0.  4.  2.  0.  0.  0.  2.  0.  0.  0.  0.  0.\n",
            "  0.  4.  0.  2.  0.  0.  0.  0.  3.  0.  4.  2.  0.  0.  0.  3.  0.  0.\n",
            "  0.  0.  0.  0.  0.  0.  0.  2.  0.  2.  0.  0.  0.  2.  0.  0.  2.  0.\n",
            "  2.  5.  0.  0.  0.  0.  0.  2.  0.  0.  0.  0. 10.  0.  0.  6.  0.  0.\n",
            "  0.  0.  2.  0.  0.  0.  0.  0.  0.  0.  3.  3.  0.  0.  3.  3.  3.  2.\n",
            "  0.  0.  0.  0.  0.  0.  3.  0.  0.  0.  2.  3.  0.  0.  0.  0.  0.  0.\n",
            "  2.  0.  0.  2.  0.  4.  0.  0.  3.  0.  0.  0.  0.  0.  3.  0.  0.  0.\n",
            "  0.  0.  0.  2.  0.  0.  0.  0.  4.  0.  0.  0.  0.  0.  2.  0.  2.  0.\n",
            "  0.  0.  0.  0.  0.  2.  2.  0.  3.  5.  0.  2.  0.  0.  0.  3.  0.  0.\n",
            "  0.  0.  0.  0.  4.  0.  0.  2.  4.  2.  0.  0.  2.  0.  0.  0.  0.  2.\n",
            "  0.  4.  0.  2.  0.  0.  4.  0.  0.  0.  0.  0.  2.  3.  0.  0.  0.  0.\n",
            "  0.  0.  0.  0.  0.  0.  0.  4.  4.  0.  4.  0.  0.  5.  0.  0.  4.  0.\n",
            "  2.  2.  0.  0.  3.  4.  0.  0.  4.  2.  0.  0.  2.  2.  0.  0.  0.  0.\n",
            "  0.  0.  0.  0.  0.  2.  0.  0.  2.  4.], Target: [2]\n"
          ],
          "name": "stdout"
        }
      ]
    },
    {
      "cell_type": "code",
      "metadata": {
        "id": "H7RQB78-l4Nc",
        "colab_type": "code",
        "colab": {}
      },
      "source": [
        "train_dataset = dataset.shuffle(len(cell_df)).batch(1)"
      ],
      "execution_count": 0,
      "outputs": []
    },
    {
      "cell_type": "code",
      "metadata": {
        "id": "Wui3QM2rm17w",
        "colab_type": "code",
        "colab": {}
      },
      "source": [
        "cell_type_count=len(cell_df['Cell_Type'].value_counts())"
      ],
      "execution_count": 0,
      "outputs": []
    },
    {
      "cell_type": "code",
      "metadata": {
        "id": "OWaTDoIemBB1",
        "colab_type": "code",
        "colab": {}
      },
      "source": [
        "def get_compiled_model():\n",
        "  model = tf.keras.Sequential([\n",
        "    tf.keras.layers.Dense(10, activation='relu'),\n",
        "    tf.keras.layers.Dense(cell_type_count, activation='softmax')\n",
        "  ])\n",
        "\n",
        "  model.compile(optimizer='adam',\n",
        "                loss='sparse_categorical_crossentropy',\n",
        "                metrics=['accuracy'])\n",
        "  return model"
      ],
      "execution_count": 0,
      "outputs": []
    },
    {
      "cell_type": "code",
      "metadata": {
        "id": "XazZdb3WmhM9",
        "colab_type": "code",
        "outputId": "da53e5d5-5f5e-4c9b-cb4c-0052c215e360",
        "colab": {
          "base_uri": "https://localhost:8080/",
          "height": 408
        }
      },
      "source": [
        "model = get_compiled_model()\n",
        "model.fit(X_train, y_train, epochs=10)\n",
        "model.evaluate(X_test,  y_test, verbose=2)"
      ],
      "execution_count": 134,
      "outputs": [
        {
          "output_type": "stream",
          "text": [
            "Train on 4834 samples\n",
            "Epoch 1/10\n",
            "4834/4834 [==============================] - 1s 105us/sample - loss: 2.0577 - accuracy: 0.4164\n",
            "Epoch 2/10\n",
            "4834/4834 [==============================] - 0s 63us/sample - loss: 1.2645 - accuracy: 0.6314\n",
            "Epoch 3/10\n",
            "4834/4834 [==============================] - 0s 65us/sample - loss: 0.8483 - accuracy: 0.7160\n",
            "Epoch 4/10\n",
            "4834/4834 [==============================] - 0s 68us/sample - loss: 0.6544 - accuracy: 0.7693\n",
            "Epoch 5/10\n",
            "4834/4834 [==============================] - 0s 61us/sample - loss: 0.5547 - accuracy: 0.8070\n",
            "Epoch 6/10\n",
            "4834/4834 [==============================] - 0s 63us/sample - loss: 0.4907 - accuracy: 0.8264\n",
            "Epoch 7/10\n",
            "4834/4834 [==============================] - 0s 63us/sample - loss: 0.4451 - accuracy: 0.8465\n",
            "Epoch 8/10\n",
            "4834/4834 [==============================] - 0s 62us/sample - loss: 0.4095 - accuracy: 0.8597\n",
            "Epoch 9/10\n",
            "4834/4834 [==============================] - 0s 61us/sample - loss: 0.3793 - accuracy: 0.8722\n",
            "Epoch 10/10\n",
            "4834/4834 [==============================] - 0s 62us/sample - loss: 0.3448 - accuracy: 0.8839\n",
            "2382/2382 - 0s - loss: 0.7919 - accuracy: 0.7225\n"
          ],
          "name": "stdout"
        },
        {
          "output_type": "execute_result",
          "data": {
            "text/plain": [
              "[0.7918746476409617, 0.7225021]"
            ]
          },
          "metadata": {
            "tags": []
          },
          "execution_count": 134
        }
      ]
    }
  ]
}