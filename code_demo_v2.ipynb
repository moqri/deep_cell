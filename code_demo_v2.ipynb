{
  "nbformat": 4,
  "nbformat_minor": 0,
  "metadata": {
    "kernelspec": {
      "display_name": "Python 3",
      "language": "python",
      "name": "python3"
    },
    "language_info": {
      "codemirror_mode": {
        "name": "ipython",
        "version": 3
      },
      "file_extension": ".py",
      "mimetype": "text/x-python",
      "name": "python",
      "nbconvert_exporter": "python",
      "pygments_lexer": "ipython3",
      "version": "3.7.1"
    },
    "colab": {
      "name": "code_demo_v2.ipynb",
      "provenance": [],
      "collapsed_sections": [],
      "include_colab_link": true
    }
  },
  "cells": [
    {
      "cell_type": "markdown",
      "metadata": {
        "id": "view-in-github",
        "colab_type": "text"
      },
      "source": [
        "<a href=\"https://colab.research.google.com/github/moqri/deep_cell/blob/master/code_demo_v2.ipynb\" target=\"_parent\"><img src=\"https://colab.research.google.com/assets/colab-badge.svg\" alt=\"Open In Colab\"/></a>"
      ]
    },
    {
      "cell_type": "code",
      "metadata": {
        "id": "G1ZwuqkFmg-u",
        "colab_type": "code",
        "outputId": "d804311f-30f1-489b-d713-6f1af29db6d4",
        "colab": {
          "base_uri": "https://localhost:8080/",
          "height": 83
        }
      },
      "source": [
        "# load the libraries \n",
        "import numpy as np\n",
        "import pandas as pd\n",
        "import h5py\n",
        "import math\n",
        "import numpy as np\n",
        "import matplotlib.pyplot as plt\n",
        "import matplotlib.cm as cm\n",
        "from scipy.ndimage.filters import gaussian_filter\n",
        "from sklearn.model_selection import train_test_split\n",
        "from numpy import savetxt\n",
        "\n",
        "from keras.models import Sequential\n",
        "from keras.layers import Dense, Dropout, Activation, Flatten\n",
        "from keras.layers import Convolution2D, MaxPooling2D\n",
        "from keras.utils import np_utils\n",
        "from keras.datasets import mnist\n",
        "\n",
        "import keras\n",
        "from keras.datasets import mnist\n",
        "from keras.models import Sequential\n",
        "from keras.layers import Dense, Dropout, Flatten\n",
        "from keras.layers import MaxPooling2D\n",
        "from keras import backend as K\n",
        "from keras.models import Model\n",
        "\n",
        "import math\n",
        "import numpy as np\n",
        "import h5py\n",
        "import matplotlib.pyplot as plt\n",
        "import scipy\n",
        "from PIL import Image\n",
        "from scipy import ndimage\n",
        "from keras.models import Sequential\n",
        "from keras.layers import Dense, Dropout, Activation, Flatten\n",
        "from keras.layers import Convolution2D, MaxPooling2D\n",
        "from keras.utils import np_utils\n",
        "from keras.datasets import mnist\n",
        "\n",
        "import keras\n",
        "from keras.datasets import mnist\n",
        "from keras.models import Sequential\n",
        "from keras.layers import Dense, Dropout, Flatten\n",
        "from keras.layers import MaxPooling2D\n",
        "from keras import backend as K\n",
        "from keras.models import Model\n",
        "\n",
        "from sklearn.model_selection import train_test_split\n",
        "import pickle\n",
        "\n",
        "import numpy as np\n",
        "\n",
        "from keras.layers import InputLayer\n",
        "\n",
        "from keras.layers import Conv2D\n",
        "\n",
        "from keras.layers import Input, Dense\n"
      ],
      "execution_count": 1,
      "outputs": [
        {
          "output_type": "stream",
          "text": [
            "Using TensorFlow backend.\n"
          ],
          "name": "stderr"
        },
        {
          "output_type": "display_data",
          "data": {
            "text/html": [
              "<p style=\"color: red;\">\n",
              "The default version of TensorFlow in Colab will soon switch to TensorFlow 2.x.<br>\n",
              "We recommend you <a href=\"https://www.tensorflow.org/guide/migrate\" target=\"_blank\">upgrade</a> now \n",
              "or ensure your notebook will continue to use TensorFlow 1.x via the <code>%tensorflow_version 1.x</code> magic:\n",
              "<a href=\"https://colab.research.google.com/notebooks/tensorflow_version.ipynb\" target=\"_blank\">more info</a>.</p>\n"
            ],
            "text/plain": [
              "<IPython.core.display.HTML object>"
            ]
          },
          "metadata": {
            "tags": []
          }
        }
      ]
    },
    {
      "cell_type": "code",
      "metadata": {
        "id": "cvsT_BkYn8nS",
        "colab_type": "code",
        "colab": {}
      },
      "source": [
        "folder='dendritic'\n",
        "expressions_url='https://mousescexpression.s3.amazonaws.com/dendritic_cell.h5'\n",
        "genes_url='https://raw.githubusercontent.com/moqri/deep_cell/master/dendritic/genes.txt'\n",
        "labels_url='https://raw.githubusercontent.com/moqri/deep_cell/master/dendritic_gene_pairs_200.txt'"
      ],
      "execution_count": 0,
      "outputs": []
    },
    {
      "cell_type": "code",
      "metadata": {
        "id": "OaJngXhym0H5",
        "colab_type": "code",
        "outputId": "446b9502-7773-485f-8631-375f7135a427",
        "colab": {
          "base_uri": "https://localhost:8080/",
          "height": 635
        }
      },
      "source": [
        "#download the data\n",
        "!mkdir {folder}\n",
        "!wget -O {folder}/exprMatrix.h5 {expressions_url}\n",
        "!wget -O {folder}/genes.txt {genes_url}\n",
        "!wget -O {folder}/labels.txt {labels_url}"
      ],
      "execution_count": 3,
      "outputs": [
        {
          "output_type": "stream",
          "text": [
            "mkdir: cannot create directory ‘dendritic’: File exists\n",
            "--2020-03-11 23:06:24--  https://mousescexpression.s3.amazonaws.com/dendritic_cell.h5\n",
            "Resolving mousescexpression.s3.amazonaws.com (mousescexpression.s3.amazonaws.com)... 52.216.243.108\n",
            "Connecting to mousescexpression.s3.amazonaws.com (mousescexpression.s3.amazonaws.com)|52.216.243.108|:443... connected.\n",
            "HTTP request sent, awaiting response... 200 OK\n",
            "Length: 675899084 (645M) [application/x-www-form-urlencoded]\n",
            "Saving to: ‘dendritic/exprMatrix.h5’\n",
            "\n",
            "dendritic/exprMatri 100%[===================>] 644.59M  76.2MB/s    in 9.0s    \n",
            "\n",
            "2020-03-11 23:06:34 (71.8 MB/s) - ‘dendritic/exprMatrix.h5’ saved [675899084/675899084]\n",
            "\n",
            "--2020-03-11 23:06:34--  https://raw.githubusercontent.com/moqri/deep_cell/master/dendritic/genes.txt\n",
            "Resolving raw.githubusercontent.com (raw.githubusercontent.com)... 151.101.0.133, 151.101.64.133, 151.101.128.133, ...\n",
            "Connecting to raw.githubusercontent.com (raw.githubusercontent.com)|151.101.0.133|:443... connected.\n",
            "HTTP request sent, awaiting response... 200 OK\n",
            "Length: 291158 (284K) [text/plain]\n",
            "Saving to: ‘dendritic/genes.txt’\n",
            "\n",
            "dendritic/genes.txt 100%[===================>] 284.33K  --.-KB/s    in 0.05s   \n",
            "\n",
            "2020-03-11 23:06:34 (5.59 MB/s) - ‘dendritic/genes.txt’ saved [291158/291158]\n",
            "\n",
            "--2020-03-11 23:06:35--  https://raw.githubusercontent.com/moqri/deep_cell/master/dendritic_gene_pairs_200.txt\n",
            "Resolving raw.githubusercontent.com (raw.githubusercontent.com)... 151.101.0.133, 151.101.64.133, 151.101.128.133, ...\n",
            "Connecting to raw.githubusercontent.com (raw.githubusercontent.com)|151.101.0.133|:443... connected.\n",
            "HTTP request sent, awaiting response... 200 OK\n",
            "Length: 664772 (649K) [text/plain]\n",
            "Saving to: ‘dendritic/labels.txt’\n",
            "\n",
            "dendritic/labels.tx 100%[===================>] 649.19K  --.-KB/s    in 0.08s   \n",
            "\n",
            "2020-03-11 23:06:35 (8.43 MB/s) - ‘dendritic/labels.txt’ saved [664772/664772]\n",
            "\n"
          ],
          "name": "stdout"
        }
      ]
    },
    {
      "cell_type": "code",
      "metadata": {
        "id": "jBgzj-xhmg-2",
        "colab_type": "code",
        "outputId": "58ba152f-b249-4cab-e6aa-be06f7ee1bee",
        "colab": {
          "base_uri": "https://localhost:8080/",
          "height": 228
        }
      },
      "source": [
        "genes= pd.read_table(folder+\"/genes.txt\",index_col=1,header=None,names=['gene', 'id'],delimiter=' ')\n",
        "genes.head()"
      ],
      "execution_count": 4,
      "outputs": [
        {
          "output_type": "execute_result",
          "data": {
            "text/html": [
              "<div>\n",
              "<style scoped>\n",
              "    .dataframe tbody tr th:only-of-type {\n",
              "        vertical-align: middle;\n",
              "    }\n",
              "\n",
              "    .dataframe tbody tr th {\n",
              "        vertical-align: top;\n",
              "    }\n",
              "\n",
              "    .dataframe thead th {\n",
              "        text-align: right;\n",
              "    }\n",
              "</style>\n",
              "<table border=\"1\" class=\"dataframe\">\n",
              "  <thead>\n",
              "    <tr style=\"text-align: right;\">\n",
              "      <th></th>\n",
              "      <th>gene</th>\n",
              "    </tr>\n",
              "    <tr>\n",
              "      <th>id</th>\n",
              "      <th></th>\n",
              "    </tr>\n",
              "  </thead>\n",
              "  <tbody>\n",
              "    <tr>\n",
              "      <th>16334</th>\n",
              "      <td>ins2</td>\n",
              "    </tr>\n",
              "    <tr>\n",
              "      <th>19241</th>\n",
              "      <td>tmsb4x</td>\n",
              "    </tr>\n",
              "    <tr>\n",
              "      <th>16333</th>\n",
              "      <td>ins1</td>\n",
              "    </tr>\n",
              "    <tr>\n",
              "      <th>67945</th>\n",
              "      <td>rpl41</td>\n",
              "    </tr>\n",
              "    <tr>\n",
              "      <th>11461</th>\n",
              "      <td>actb</td>\n",
              "    </tr>\n",
              "  </tbody>\n",
              "</table>\n",
              "</div>"
            ],
            "text/plain": [
              "         gene\n",
              "id           \n",
              "16334    ins2\n",
              "19241  tmsb4x\n",
              "16333    ins1\n",
              "67945   rpl41\n",
              "11461    actb"
            ]
          },
          "metadata": {
            "tags": []
          },
          "execution_count": 4
        }
      ]
    },
    {
      "cell_type": "code",
      "metadata": {
        "id": "CIFt3XWHmg-6",
        "colab_type": "code",
        "outputId": "a2edc403-aa81-434e-b516-c5e0a59a31be",
        "colab": {
          "base_uri": "https://localhost:8080/",
          "height": 163
        }
      },
      "source": [
        "# clean the data :\n",
        "\n",
        "#load the matrix\n",
        "expression_df = pd.read_hdf(folder+\"/exprMatrix.h5\",index_col=0)\n",
        "\n",
        "#clean the data\n",
        "\n",
        "expression_df.index.rename('cell_id',inplace=1)\n",
        "expression_df.shape\n",
        "\n",
        "gene_names=[genes['gene'].ix[id] for id in expression_df.columns.values]\n",
        "expression_df.columns=gene_names\n",
        "\n",
        "expression_df.head()\n",
        "\n",
        "expression_df=expression_df.loc[:, (expression_df != expression_df.iloc[0]).any()]  # remove constant columns\n",
        "expression_df.shape\n",
        "\n",
        "expression_df=expression_df[(expression_df.T != 0).any()] # remove rows of zeros\n",
        "expression_df.shape\n",
        "\n",
        "\n",
        "gene_count=expression_df.astype(bool).sum(axis=0)\n",
        "cells=expression_df.count()\n",
        "expression_df=expression_df[gene_count[gene_count>cells/10].index]\n",
        "expression_df.shape\n",
        "\n",
        "expression_df.head()\n",
        "\n",
        "expression_df=(100*expression_df.transpose() / expression_df.sum(1)).round(2).transpose()"
      ],
      "execution_count": 5,
      "outputs": [
        {
          "output_type": "stream",
          "text": [
            "/usr/local/lib/python3.6/dist-packages/ipykernel_launcher.py:8: FutureWarning: \n",
            ".ix is deprecated. Please use\n",
            ".loc for label based indexing or\n",
            ".iloc for positional indexing\n",
            "\n",
            "See the documentation here:\n",
            "http://pandas.pydata.org/pandas-docs/stable/user_guide/indexing.html#ix-indexer-is-deprecated\n",
            "  \n"
          ],
          "name": "stderr"
        }
      ]
    },
    {
      "cell_type": "code",
      "metadata": {
        "id": "8eI5nD7jmg--",
        "colab_type": "code",
        "outputId": "a5c61562-ea44-4fe7-8f8d-2b58468b4b42",
        "colab": {
          "base_uri": "https://localhost:8080/",
          "height": 35
        }
      },
      "source": [
        "#cell*genes\n",
        "expression_df.shape"
      ],
      "execution_count": 6,
      "outputs": [
        {
          "output_type": "execute_result",
          "data": {
            "text/plain": [
              "(4124, 13042)"
            ]
          },
          "metadata": {
            "tags": []
          },
          "execution_count": 6
        }
      ]
    },
    {
      "cell_type": "code",
      "metadata": {
        "id": "XJjfoK5emg_B",
        "colab_type": "code",
        "colab": {}
      },
      "source": [
        "# this function takes x and y and returns the image, number of bins determine the resolution. We will use this function later \n",
        "# in our construction for the image\n",
        "\n",
        "def myplot(x, y, s, bins=150):\n",
        "    heatmap, xedges, yedges = np.histogram2d(x, y, bins=bins)\n",
        "    heatmap = gaussian_filter(heatmap, sigma=s)\n",
        "    return heatmap.T "
      ],
      "execution_count": 0,
      "outputs": []
    },
    {
      "cell_type": "code",
      "metadata": {
        "id": "GdMp2REkmg_I",
        "colab_type": "code",
        "colab": {}
      },
      "source": [
        "# this function to read the file \"pairs\" and the the label assocaited with these pairs...example of what this function does \n",
        "# is in the next cell\n",
        "\n",
        "def load_point_cloud_from_hd(path):\n",
        "     entiregraph=[]\n",
        "     y=[]\n",
        "     with open(path) as f:\n",
        "         for line in f:\n",
        "             numbers_str = line.split()\n",
        "             numbers_float = [str(x) for x in numbers_str]  #map(float,numbers_str) works too\n",
        "             val=float(numbers_float[-1])\n",
        "             if val!=2:          \n",
        "                 y.append(val)\n",
        "                 entiregraph.append(numbers_float[:-1])\n",
        "             else:\n",
        "                 y.append(1.0)\n",
        "                 entiregraph.append(numbers_float[:-1])\n",
        "\n",
        "                 \n",
        "     return np.array(entiregraph),y\n"
      ],
      "execution_count": 0,
      "outputs": []
    },
    {
      "cell_type": "code",
      "metadata": {
        "id": "epBnor6BqXHk",
        "colab_type": "code",
        "colab": {
          "base_uri": "https://localhost:8080/",
          "height": 198
        },
        "outputId": "5af28d43-3cb7-4a0b-ecfc-08b7a0db31fe"
      },
      "source": [
        "labels= pd.read_table(folder+\"/labels.txt\",index_col=False,header=None,names=['gene1', 'gene2','value'],delimiter='\\t')\n",
        "labels.head()"
      ],
      "execution_count": 9,
      "outputs": [
        {
          "output_type": "execute_result",
          "data": {
            "text/html": [
              "<div>\n",
              "<style scoped>\n",
              "    .dataframe tbody tr th:only-of-type {\n",
              "        vertical-align: middle;\n",
              "    }\n",
              "\n",
              "    .dataframe tbody tr th {\n",
              "        vertical-align: top;\n",
              "    }\n",
              "\n",
              "    .dataframe thead th {\n",
              "        text-align: right;\n",
              "    }\n",
              "</style>\n",
              "<table border=\"1\" class=\"dataframe\">\n",
              "  <thead>\n",
              "    <tr style=\"text-align: right;\">\n",
              "      <th></th>\n",
              "      <th>gene1</th>\n",
              "      <th>gene2</th>\n",
              "      <th>value</th>\n",
              "    </tr>\n",
              "  </thead>\n",
              "  <tbody>\n",
              "    <tr>\n",
              "      <th>0</th>\n",
              "      <td>stat3</td>\n",
              "      <td>tonsl</td>\n",
              "      <td>1</td>\n",
              "    </tr>\n",
              "    <tr>\n",
              "      <th>1</th>\n",
              "      <td>tonsl</td>\n",
              "      <td>stat3</td>\n",
              "      <td>2</td>\n",
              "    </tr>\n",
              "    <tr>\n",
              "      <th>2</th>\n",
              "      <td>stat3</td>\n",
              "      <td>exd1</td>\n",
              "      <td>0</td>\n",
              "    </tr>\n",
              "    <tr>\n",
              "      <th>3</th>\n",
              "      <td>stat3</td>\n",
              "      <td>tet2</td>\n",
              "      <td>1</td>\n",
              "    </tr>\n",
              "    <tr>\n",
              "      <th>4</th>\n",
              "      <td>tet2</td>\n",
              "      <td>stat3</td>\n",
              "      <td>2</td>\n",
              "    </tr>\n",
              "  </tbody>\n",
              "</table>\n",
              "</div>"
            ],
            "text/plain": [
              "   gene1  gene2  value\n",
              "0  stat3  tonsl      1\n",
              "1  tonsl  stat3      2\n",
              "2  stat3   exd1      0\n",
              "3  stat3   tet2      1\n",
              "4   tet2  stat3      2"
            ]
          },
          "metadata": {
            "tags": []
          },
          "execution_count": 9
        }
      ]
    },
    {
      "cell_type": "code",
      "metadata": {
        "id": "cz9x3dr5mg_M",
        "colab_type": "code",
        "colab": {}
      },
      "source": [
        "pairs,y_=load_point_cloud_from_hd(folder+\"/labels.txt\")"
      ],
      "execution_count": 0,
      "outputs": []
    },
    {
      "cell_type": "code",
      "metadata": {
        "id": "JV6q2ykBmg_P",
        "colab_type": "code",
        "outputId": "0054c01c-9b04-42e1-e8ec-ded0472a4fe3",
        "colab": {
          "base_uri": "https://localhost:8080/",
          "height": 126
        }
      },
      "source": [
        "# print the pair and the label assocatied with it\n",
        "print(pairs[0])\n",
        "print(y_[0])\n",
        "\n",
        "print(pairs[1])\n",
        "print(y_[1])\n",
        "\n",
        "print(pairs[2])\n",
        "print(y_[2])"
      ],
      "execution_count": 11,
      "outputs": [
        {
          "output_type": "stream",
          "text": [
            "['stat3' 'tonsl']\n",
            "1.0\n",
            "['tonsl' 'stat3']\n",
            "1.0\n",
            "['stat3' 'exd1']\n",
            "0.0\n"
          ],
          "name": "stdout"
        }
      ]
    },
    {
      "cell_type": "code",
      "metadata": {
        "id": "QnED_GUbmg_T",
        "colab_type": "code",
        "outputId": "367e4c4c-3c6d-409e-a0f0-18fa819b2c5a",
        "colab": {
          "base_uri": "https://localhost:8080/",
          "height": 54
        }
      },
      "source": [
        "# we can use the pairs with the expression_df as follows:\n",
        "# lets take the first pair :\n",
        "\n",
        "pair0=pairs[0]\n",
        "gene_a=pair0[0]\n",
        "gene_b=pair0[1]\n",
        "\n",
        "print(gene_a)\n",
        "print(gene_b)"
      ],
      "execution_count": 12,
      "outputs": [
        {
          "output_type": "stream",
          "text": [
            "stat3\n",
            "tonsl\n"
          ],
          "name": "stdout"
        }
      ]
    },
    {
      "cell_type": "code",
      "metadata": {
        "id": "kK2w1gxEmg_Y",
        "colab_type": "code",
        "outputId": "64fbe089-007f-4a13-b7a8-2d81a944afe1",
        "colab": {
          "base_uri": "https://localhost:8080/",
          "height": 437
        }
      },
      "source": [
        "# we can input these genes to the table expression_df\n",
        "expression_df[[gene_a,gene_b]]\n",
        "\n",
        "# be careful here not all pairs in the file \"pairs\" are in expression_df so one has to check first if the pair exists in \n",
        "# expression_df"
      ],
      "execution_count": 13,
      "outputs": [
        {
          "output_type": "execute_result",
          "data": {
            "text/html": [
              "<div>\n",
              "<style scoped>\n",
              "    .dataframe tbody tr th:only-of-type {\n",
              "        vertical-align: middle;\n",
              "    }\n",
              "\n",
              "    .dataframe tbody tr th {\n",
              "        vertical-align: top;\n",
              "    }\n",
              "\n",
              "    .dataframe thead th {\n",
              "        text-align: right;\n",
              "    }\n",
              "</style>\n",
              "<table border=\"1\" class=\"dataframe\">\n",
              "  <thead>\n",
              "    <tr style=\"text-align: right;\">\n",
              "      <th></th>\n",
              "      <th>stat3</th>\n",
              "      <th>tonsl</th>\n",
              "    </tr>\n",
              "    <tr>\n",
              "      <th>cell_id</th>\n",
              "      <th></th>\n",
              "      <th></th>\n",
              "    </tr>\n",
              "  </thead>\n",
              "  <tbody>\n",
              "    <tr>\n",
              "      <th>GSE48968_GSM1189043_SRR935907</th>\n",
              "      <td>0.0</td>\n",
              "      <td>0.0</td>\n",
              "    </tr>\n",
              "    <tr>\n",
              "      <th>GSE48968_GSM1189045_SRR935909</th>\n",
              "      <td>0.0</td>\n",
              "      <td>0.0</td>\n",
              "    </tr>\n",
              "    <tr>\n",
              "      <th>GSE48968_GSM1189047_SRR935911</th>\n",
              "      <td>0.0</td>\n",
              "      <td>0.0</td>\n",
              "    </tr>\n",
              "    <tr>\n",
              "      <th>GSE48968_GSM1189048_SRR935912</th>\n",
              "      <td>0.0</td>\n",
              "      <td>0.0</td>\n",
              "    </tr>\n",
              "    <tr>\n",
              "      <th>GSE48968_GSM1189049_SRR935913</th>\n",
              "      <td>0.0</td>\n",
              "      <td>0.0</td>\n",
              "    </tr>\n",
              "    <tr>\n",
              "      <th>...</th>\n",
              "      <td>...</td>\n",
              "      <td>...</td>\n",
              "    </tr>\n",
              "    <tr>\n",
              "      <th>GSE78779_GSM2076658_SRR3196081</th>\n",
              "      <td>0.0</td>\n",
              "      <td>0.0</td>\n",
              "    </tr>\n",
              "    <tr>\n",
              "      <th>GSE78779_GSM2076659_SRR3196082</th>\n",
              "      <td>0.0</td>\n",
              "      <td>0.0</td>\n",
              "    </tr>\n",
              "    <tr>\n",
              "      <th>GSE78779_GSM2076660_SRR3196083</th>\n",
              "      <td>0.0</td>\n",
              "      <td>0.0</td>\n",
              "    </tr>\n",
              "    <tr>\n",
              "      <th>GSE78779_GSM2076661_SRR3196084</th>\n",
              "      <td>0.0</td>\n",
              "      <td>0.0</td>\n",
              "    </tr>\n",
              "    <tr>\n",
              "      <th>GSE78779_GSM2076662_SRR3196085</th>\n",
              "      <td>0.0</td>\n",
              "      <td>0.0</td>\n",
              "    </tr>\n",
              "  </tbody>\n",
              "</table>\n",
              "<p>4124 rows × 2 columns</p>\n",
              "</div>"
            ],
            "text/plain": [
              "                                stat3  tonsl\n",
              "cell_id                                     \n",
              "GSE48968_GSM1189043_SRR935907     0.0    0.0\n",
              "GSE48968_GSM1189045_SRR935909     0.0    0.0\n",
              "GSE48968_GSM1189047_SRR935911     0.0    0.0\n",
              "GSE48968_GSM1189048_SRR935912     0.0    0.0\n",
              "GSE48968_GSM1189049_SRR935913     0.0    0.0\n",
              "...                               ...    ...\n",
              "GSE78779_GSM2076658_SRR3196081    0.0    0.0\n",
              "GSE78779_GSM2076659_SRR3196082    0.0    0.0\n",
              "GSE78779_GSM2076660_SRR3196083    0.0    0.0\n",
              "GSE78779_GSM2076661_SRR3196084    0.0    0.0\n",
              "GSE78779_GSM2076662_SRR3196085    0.0    0.0\n",
              "\n",
              "[4124 rows x 2 columns]"
            ]
          },
          "metadata": {
            "tags": []
          },
          "execution_count": 13
        }
      ]
    },
    {
      "cell_type": "code",
      "metadata": {
        "id": "fJQq2q8img_h",
        "colab_type": "code",
        "outputId": "cc545824-dc77-4ee4-81d6-364b2e43854b",
        "colab": {
          "base_uri": "https://localhost:8080/",
          "height": 290
        }
      },
      "source": [
        "#we can try differnt threshold :\n",
        "\n",
        "d=expression_df[[gene_a,gene_b]]\n",
        "d=d[d[gene_a]+d[gene_b]>0.0] #we only drop when both are zero (replaced * with +)\n",
        "print(d)\n",
        "\n",
        "# in my code I skipped the empty ones - We are not droping these anymore"
      ],
      "execution_count": 14,
      "outputs": [
        {
          "output_type": "stream",
          "text": [
            "                                stat3  tonsl\n",
            "cell_id                                     \n",
            "GSE48968_GSM1189050_SRR935914    0.01    0.0\n",
            "GSE48968_GSM1189053_SRR935917    0.01    0.0\n",
            "GSE48968_GSM1189055_SRR935919    0.01    0.0\n",
            "GSE48968_GSM1189056_SRR935920    0.01    0.0\n",
            "GSE48968_GSM1189062_SRR935926    0.01    0.0\n",
            "...                               ...    ...\n",
            "GSE48968_GSM1190864_SRR940158    0.01    0.0\n",
            "GSE78779_GSM2076618_SRR3196041   0.01    0.0\n",
            "GSE78779_GSM2076625_SRR3196048   0.01    0.0\n",
            "GSE78779_GSM2076627_SRR3196050   0.01    0.0\n",
            "GSE78779_GSM2076650_SRR3196073   0.01    0.0\n",
            "\n",
            "[923 rows x 2 columns]\n"
          ],
          "name": "stdout"
        }
      ]
    },
    {
      "cell_type": "code",
      "metadata": {
        "id": "tXExTffUmg_l",
        "colab_type": "code",
        "colab": {}
      },
      "source": [
        "x=np.log2(d+1)[gene_a].values\n",
        "y=np.log2(d+1)[gene_b].values  "
      ],
      "execution_count": 0,
      "outputs": []
    },
    {
      "cell_type": "code",
      "metadata": {
        "id": "LoEDkw1dmg_o",
        "colab_type": "code",
        "outputId": "8f1ba2db-bc08-4ad6-e073-158bc04b469c",
        "colab": {
          "base_uri": "https://localhost:8080/",
          "height": 54
        }
      },
      "source": [
        "print(x[1:10])"
      ],
      "execution_count": 16,
      "outputs": [
        {
          "output_type": "stream",
          "text": [
            "[0.01435529 0.01435529 0.01435529 0.01435529 0.01435529 0.01435529\n",
            " 0.01435529 0.01435529 0.01435529]\n"
          ],
          "name": "stdout"
        }
      ]
    },
    {
      "cell_type": "code",
      "metadata": {
        "id": "6NClyiRmmg_t",
        "colab_type": "code",
        "outputId": "57f09c2d-c1e9-4ed0-8a2b-61d337c734d3",
        "colab": {
          "base_uri": "https://localhost:8080/",
          "height": 35
        }
      },
      "source": [
        "print(y[1:10])"
      ],
      "execution_count": 17,
      "outputs": [
        {
          "output_type": "stream",
          "text": [
            "[0. 0. 0. 0. 0. 0. 0. 0. 0.]\n"
          ],
          "name": "stdout"
        }
      ]
    },
    {
      "cell_type": "code",
      "metadata": {
        "id": "nv70d053mg_y",
        "colab_type": "code",
        "colab": {}
      },
      "source": [
        "# now compute the image\n",
        "img = myplot(x, y, 16,bins=150)"
      ],
      "execution_count": 0,
      "outputs": []
    },
    {
      "cell_type": "code",
      "metadata": {
        "id": "d9yj8ZPdmg_2",
        "colab_type": "code",
        "outputId": "135f4743-4b04-40f0-a895-b0936ec65103",
        "colab": {
          "base_uri": "https://localhost:8080/",
          "height": 254
        }
      },
      "source": [
        "img"
      ],
      "execution_count": 19,
      "outputs": [
        {
          "output_type": "execute_result",
          "data": {
            "text/plain": [
              "array([[0.54703559, 0.55015224, 0.55634182, ..., 0.00837807, 0.00836347,\n",
              "        0.00835624],\n",
              "       [0.54490705, 0.54801156, 0.55417702, ..., 0.00834544, 0.0083309 ,\n",
              "        0.0083237 ],\n",
              "       [0.5406748 , 0.54375515, 0.54987265, ..., 0.00828056, 0.00826613,\n",
              "        0.00825899],\n",
              "       ...,\n",
              "       [0.00782079, 0.00779033, 0.00772977, ..., 0.        , 0.        ,\n",
              "        0.        ],\n",
              "       [0.00786196, 0.00783134, 0.00777046, ..., 0.        , 0.        ,\n",
              "        0.        ],\n",
              "       [0.00788264, 0.00785194, 0.0077909 , ..., 0.        , 0.        ,\n",
              "        0.        ]])"
            ]
          },
          "metadata": {
            "tags": []
          },
          "execution_count": 19
        }
      ]
    },
    {
      "cell_type": "code",
      "metadata": {
        "id": "Wt3pzPstmg_5",
        "colab_type": "code",
        "colab": {}
      },
      "source": [
        "# we need to do the above for every pair in expression_df and hence the following function :\n",
        "\n",
        "def generate_data(expression_df,pairs,y_values,s=16,threshold=0.05,size=None):\n",
        "\n",
        "    expression_df = expression_df.loc[:,~expression_df.columns.duplicated()]\n",
        "    X=[]\n",
        "    y_out=[]\n",
        "    for pair,k in zip(pairs,y_values):\n",
        "        \n",
        "        if size!=None:\n",
        "            \n",
        "            if len(X)>size:\n",
        "                break\n",
        "        \n",
        "        gene_a=pair[0]  \n",
        "        gene_b=pair[1]\n",
        "        \n",
        "        if gene_a in expression_df and gene_b in expression_df : # check if the genes are in the table before plugging them in\n",
        "            d=expression_df[[gene_a,gene_b]]\n",
        "            d=d[d[gene_a]+d[gene_b]>threshold] # here we use the threshold \n",
        "        \n",
        "        \n",
        "            x=np.log2(d+1)[gene_a].values\n",
        "            y=np.log2(d+1)[gene_b].values  \n",
        "\n",
        "\n",
        "            \n",
        "            if len(x)!=0:\n",
        "                if len(x.shape)!=1:\n",
        "                    \n",
        "                    continue\n",
        "                else:\n",
        "                    \n",
        "                      \n",
        "                    img = myplot(x, y, s,bins=150) # create the image\n",
        "                    \n",
        "                    X.append(img)\n",
        "                    y_out.append(k)\n",
        "                    \n",
        "                    \n",
        "            else:\n",
        "                \n",
        "                    img = myplot(x, y, s,bins=150)  # create the image\n",
        "             \n",
        "\n",
        "                    X.append(img)\n",
        "                    y_out.append(k)\n",
        "              \n",
        "\n",
        "        \n",
        "    \n",
        "    return np.array(X),np.array(y_out)"
      ],
      "execution_count": 0,
      "outputs": []
    },
    {
      "cell_type": "code",
      "metadata": {
        "id": "ps5JHyhamg_7",
        "colab_type": "code",
        "colab": {}
      },
      "source": [
        "# running may take a while : (I choose the size to be 1000 for speed)\n",
        "X,y=generate_data(expression_df,pairs,y_,s=16,threshold=0.00,size=1000)"
      ],
      "execution_count": 0,
      "outputs": []
    },
    {
      "cell_type": "code",
      "metadata": {
        "id": "hssLj90Zmg_-",
        "colab_type": "code",
        "outputId": "8c2cbb6d-0870-4b5e-a540-e55a3d17c59b",
        "colab": {
          "base_uri": "https://localhost:8080/",
          "height": 199
        }
      },
      "source": [
        "# so now you have an image X and its assoicated binary label y\n",
        "print(\"image\")\n",
        "print(X[0])\n",
        "print(\"LABEL\")\n",
        "print(y[0])"
      ],
      "execution_count": 22,
      "outputs": [
        {
          "output_type": "stream",
          "text": [
            "image\n",
            "[[0.54703559 0.55015224 0.55634182 ... 0.00837807 0.00836347 0.00835624]\n",
            " [0.54490705 0.54801156 0.55417702 ... 0.00834544 0.0083309  0.0083237 ]\n",
            " [0.5406748  0.54375515 0.54987265 ... 0.00828056 0.00826613 0.00825899]\n",
            " ...\n",
            " [0.00782079 0.00779033 0.00772977 ... 0.         0.         0.        ]\n",
            " [0.00786196 0.00783134 0.00777046 ... 0.         0.         0.        ]\n",
            " [0.00788264 0.00785194 0.0077909  ... 0.         0.         0.        ]]\n",
            "LABEL\n",
            "1.0\n"
          ],
          "name": "stdout"
        }
      ]
    },
    {
      "cell_type": "code",
      "metadata": {
        "id": "oUVP2IiRmhAC",
        "colab_type": "code",
        "colab": {}
      },
      "source": [
        "# you can save them to HD using the following command :\n",
        "\n",
        "import pickle\n",
        "\n",
        "with open('X_Data_all.pkl','wb') as f:\n",
        "    pickle.dump(X, f)\n",
        "\n",
        "with open('y_Data_all.pkl','wb') as f:\n",
        "    pickle.dump(y, f)"
      ],
      "execution_count": 0,
      "outputs": []
    },
    {
      "cell_type": "code",
      "metadata": {
        "id": "S7bayhnTmhAI",
        "colab_type": "code",
        "colab": {}
      },
      "source": [
        "# now define the NN model :\n",
        "\n",
        "def define_model_1(num_classes=3,shape_input=(32, 32, 1)):\n",
        "\n",
        "\n",
        "    inputs = Input(shape=shape_input)\n",
        "\n",
        "    x=Conv2D(32, kernel_size=(3, 3),\n",
        "                     activation='relu')(inputs)\n",
        "    x=Conv2D(64, (3, 3), activation='relu')(x)\n",
        "    x=MaxPooling2D(pool_size=(2, 2))(x)\n",
        "    x=Dropout(0.25)(x)\n",
        "    x=Flatten()(x)\n",
        "    x=Dense(128, activation='relu')(x)\n",
        "    x=Dropout(0.5)(x)\n",
        "    predictions=Dense(num_classes, activation='softmax',name='final_output')(x)\n",
        "\n",
        "\n",
        "    model = Model(inputs=inputs, outputs=predictions)\n",
        "    print(\"model is defined\")    \n",
        "    return model"
      ],
      "execution_count": 0,
      "outputs": []
    },
    {
      "cell_type": "code",
      "metadata": {
        "id": "qO0-nzuHmhAL",
        "colab_type": "code",
        "colab": {}
      },
      "source": [
        "# define other functions needed for splitting the data, training the model,etc :\n",
        "\n",
        "def prepare_data(X,y):        \n",
        "    \n",
        "    img_rows, img_cols = 150, 150\n",
        "    \n",
        "    # the data, split between train and test sets\n",
        "    x_train, x_test, y_train, y_test = train_test_split( X, y, test_size=0.2, random_state=42)\n",
        "\n",
        "\n",
        "    x_train = x_train.reshape(x_train.shape[0], img_rows, img_cols, 1)\n",
        "    x_test = x_test.reshape(x_test.shape[0], img_rows, img_cols, 1)\n",
        "\n",
        "    x_train = x_train.astype('float32')\n",
        "    x_test = x_test.astype('float32')\n",
        "    x_train /= 0.49434793151473155\n",
        "    x_test /= 0.49434793151473155\n",
        "    print('x_train shape:', x_train.shape)\n",
        "    print(x_train.shape[0], 'train samples')\n",
        "    print(x_test.shape[0], 'test samples')\n",
        "    \n",
        "    # convert class vectors to binary class matrices\n",
        "    y_train = keras.utils.to_categorical(y_train, 2)\n",
        "    y_test = keras.utils.to_categorical(y_test, 2)\n",
        "    \n",
        "    return x_train, y_train, x_test, y_test\n",
        "\n",
        "\n",
        "def train_model(model, x_train, y_train,x_test, y_test, batch_size=128,epochs=30):\n",
        "\n",
        "\n",
        "    model.compile(loss=keras.losses.categorical_crossentropy,\n",
        "                  optimizer=keras.optimizers.Adadelta(),\n",
        "                  metrics=['accuracy'])\n",
        "    print(\"training the model\")\n",
        "    history=model.fit(x_train, y_train,\n",
        "              batch_size=batch_size,\n",
        "              epochs=epochs,\n",
        "              verbose=1,\n",
        "              validation_data=(x_test, y_test))\n",
        "    print(\"done training the model\")\n",
        "    score = model.evaluate(x_test, y_test, verbose=0)\n",
        "    print('Test loss:', score[0])\n",
        "    print('Test accuracy:', score[1])\n",
        "\n",
        "    \n",
        "    return history"
      ],
      "execution_count": 0,
      "outputs": []
    },
    {
      "cell_type": "code",
      "metadata": {
        "id": "zovyTsJUmhAO",
        "colab_type": "code",
        "outputId": "a58b442a-5807-4618-883c-8c5b10a2f3fd",
        "colab": {
          "base_uri": "https://localhost:8080/",
          "height": 72
        }
      },
      "source": [
        "# split the data : \n",
        "\n",
        "x_train, y_train, x_test, y_test = prepare_data(X,y)"
      ],
      "execution_count": 26,
      "outputs": [
        {
          "output_type": "stream",
          "text": [
            "x_train shape: (800, 150, 150, 1)\n",
            "800 train samples\n",
            "201 test samples\n"
          ],
          "name": "stdout"
        }
      ]
    },
    {
      "cell_type": "code",
      "metadata": {
        "id": "c9JETSldmhAV",
        "colab_type": "code",
        "outputId": "d6027bff-f4ed-4a94-e431-6f567019ec4a",
        "colab": {
          "base_uri": "https://localhost:8080/",
          "height": 292
        }
      },
      "source": [
        "# Define the model : \n",
        "\n",
        "# input is the resolution of the image--in our case it is 150 by 150\n",
        "\n",
        "model=define_model_1(num_classes=2,shape_input=(150, 150, 1))"
      ],
      "execution_count": 27,
      "outputs": [
        {
          "output_type": "stream",
          "text": [
            "WARNING:tensorflow:From /usr/local/lib/python3.6/dist-packages/keras/backend/tensorflow_backend.py:66: The name tf.get_default_graph is deprecated. Please use tf.compat.v1.get_default_graph instead.\n",
            "\n",
            "WARNING:tensorflow:From /usr/local/lib/python3.6/dist-packages/keras/backend/tensorflow_backend.py:541: The name tf.placeholder is deprecated. Please use tf.compat.v1.placeholder instead.\n",
            "\n",
            "WARNING:tensorflow:From /usr/local/lib/python3.6/dist-packages/keras/backend/tensorflow_backend.py:4432: The name tf.random_uniform is deprecated. Please use tf.random.uniform instead.\n",
            "\n",
            "WARNING:tensorflow:From /usr/local/lib/python3.6/dist-packages/keras/backend/tensorflow_backend.py:4267: The name tf.nn.max_pool is deprecated. Please use tf.nn.max_pool2d instead.\n",
            "\n",
            "WARNING:tensorflow:From /usr/local/lib/python3.6/dist-packages/keras/backend/tensorflow_backend.py:148: The name tf.placeholder_with_default is deprecated. Please use tf.compat.v1.placeholder_with_default instead.\n",
            "\n",
            "WARNING:tensorflow:From /usr/local/lib/python3.6/dist-packages/keras/backend/tensorflow_backend.py:3733: calling dropout (from tensorflow.python.ops.nn_ops) with keep_prob is deprecated and will be removed in a future version.\n",
            "Instructions for updating:\n",
            "Please use `rate` instead of `keep_prob`. Rate should be set to `rate = 1 - keep_prob`.\n",
            "model is defined\n"
          ],
          "name": "stdout"
        }
      ]
    },
    {
      "cell_type": "code",
      "metadata": {
        "id": "qRXgnPNJmhAY",
        "colab_type": "code",
        "outputId": "4a843be9-87d8-4aef-b5dc-f9e1aa5c62fb",
        "colab": {
          "base_uri": "https://localhost:8080/",
          "height": 490
        }
      },
      "source": [
        "# check the summary\n",
        "model.summary()"
      ],
      "execution_count": 28,
      "outputs": [
        {
          "output_type": "stream",
          "text": [
            "Model: \"model_1\"\n",
            "_________________________________________________________________\n",
            "Layer (type)                 Output Shape              Param #   \n",
            "=================================================================\n",
            "input_1 (InputLayer)         (None, 150, 150, 1)       0         \n",
            "_________________________________________________________________\n",
            "conv2d_1 (Conv2D)            (None, 148, 148, 32)      320       \n",
            "_________________________________________________________________\n",
            "conv2d_2 (Conv2D)            (None, 146, 146, 64)      18496     \n",
            "_________________________________________________________________\n",
            "max_pooling2d_1 (MaxPooling2 (None, 73, 73, 64)        0         \n",
            "_________________________________________________________________\n",
            "dropout_1 (Dropout)          (None, 73, 73, 64)        0         \n",
            "_________________________________________________________________\n",
            "flatten_1 (Flatten)          (None, 341056)            0         \n",
            "_________________________________________________________________\n",
            "dense_1 (Dense)              (None, 128)               43655296  \n",
            "_________________________________________________________________\n",
            "dropout_2 (Dropout)          (None, 128)               0         \n",
            "_________________________________________________________________\n",
            "final_output (Dense)         (None, 2)                 258       \n",
            "=================================================================\n",
            "Total params: 43,674,370\n",
            "Trainable params: 43,674,370\n",
            "Non-trainable params: 0\n",
            "_________________________________________________________________\n"
          ],
          "name": "stdout"
        }
      ]
    },
    {
      "cell_type": "code",
      "metadata": {
        "id": "WIe5RAG9mhAc",
        "colab_type": "code",
        "outputId": "14d65a75-083a-41fe-ec13-9a2079f06395",
        "colab": {
          "base_uri": "https://localhost:8080/",
          "height": 581
        }
      },
      "source": [
        "# train the model :\n",
        "# choose higher epochs for your training --i choose a lower number because of time\n",
        "train_model(model, x_train, y_train,x_test, y_test,batch_size=128,epochs=1)"
      ],
      "execution_count": 29,
      "outputs": [
        {
          "output_type": "stream",
          "text": [
            "WARNING:tensorflow:From /usr/local/lib/python3.6/dist-packages/keras/optimizers.py:793: The name tf.train.Optimizer is deprecated. Please use tf.compat.v1.train.Optimizer instead.\n",
            "\n",
            "WARNING:tensorflow:From /usr/local/lib/python3.6/dist-packages/keras/backend/tensorflow_backend.py:3576: The name tf.log is deprecated. Please use tf.math.log instead.\n",
            "\n",
            "training the model\n",
            "WARNING:tensorflow:From /usr/local/lib/python3.6/dist-packages/tensorflow_core/python/ops/math_grad.py:1424: where (from tensorflow.python.ops.array_ops) is deprecated and will be removed in a future version.\n",
            "Instructions for updating:\n",
            "Use tf.where in 2.0, which has the same broadcast rule as np.where\n",
            "WARNING:tensorflow:From /usr/local/lib/python3.6/dist-packages/keras/backend/tensorflow_backend.py:1033: The name tf.assign_add is deprecated. Please use tf.compat.v1.assign_add instead.\n",
            "\n",
            "WARNING:tensorflow:From /usr/local/lib/python3.6/dist-packages/keras/backend/tensorflow_backend.py:1020: The name tf.assign is deprecated. Please use tf.compat.v1.assign instead.\n",
            "\n",
            "WARNING:tensorflow:From /usr/local/lib/python3.6/dist-packages/keras/backend/tensorflow_backend.py:3005: The name tf.Session is deprecated. Please use tf.compat.v1.Session instead.\n",
            "\n",
            "Train on 800 samples, validate on 201 samples\n",
            "Epoch 1/1\n",
            "WARNING:tensorflow:From /usr/local/lib/python3.6/dist-packages/keras/backend/tensorflow_backend.py:190: The name tf.get_default_session is deprecated. Please use tf.compat.v1.get_default_session instead.\n",
            "\n",
            "WARNING:tensorflow:From /usr/local/lib/python3.6/dist-packages/keras/backend/tensorflow_backend.py:197: The name tf.ConfigProto is deprecated. Please use tf.compat.v1.ConfigProto instead.\n",
            "\n",
            "WARNING:tensorflow:From /usr/local/lib/python3.6/dist-packages/keras/backend/tensorflow_backend.py:207: The name tf.global_variables is deprecated. Please use tf.compat.v1.global_variables instead.\n",
            "\n",
            "WARNING:tensorflow:From /usr/local/lib/python3.6/dist-packages/keras/backend/tensorflow_backend.py:216: The name tf.is_variable_initialized is deprecated. Please use tf.compat.v1.is_variable_initialized instead.\n",
            "\n",
            "WARNING:tensorflow:From /usr/local/lib/python3.6/dist-packages/keras/backend/tensorflow_backend.py:223: The name tf.variables_initializer is deprecated. Please use tf.compat.v1.variables_initializer instead.\n",
            "\n",
            "800/800 [==============================] - 79s 99ms/step - loss: 1.1325 - acc: 0.6350 - val_loss: 0.4179 - val_acc: 0.7612\n",
            "done training the model\n",
            "Test loss: 0.41788725769934965\n",
            "Test accuracy: 0.7611940299248814\n"
          ],
          "name": "stdout"
        },
        {
          "output_type": "execute_result",
          "data": {
            "text/plain": [
              "<keras.callbacks.History at 0x7fd46b0c7f28>"
            ]
          },
          "metadata": {
            "tags": []
          },
          "execution_count": 29
        }
      ]
    },
    {
      "cell_type": "code",
      "metadata": {
        "id": "JeIyQlMvzr8s",
        "colab_type": "code",
        "colab": {}
      },
      "source": [
        ""
      ],
      "execution_count": 0,
      "outputs": []
    }
  ]
}